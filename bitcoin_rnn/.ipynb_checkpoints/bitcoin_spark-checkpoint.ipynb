{
 "cells": [
  {
   "cell_type": "code",
   "execution_count": null,
   "metadata": {},
   "outputs": [],
   "source": [
    "rdd1_lst = []\n",
    "for idx in range(1, 15) :\n",
    "    file = sc.textFile('file:///home/ubuntu/Ybigta/Project/bitcoin_project/data/data{}'.format(idx))\n",
    "    rdd1_lst.append(file)\n",
    "    \n",
    "    #print(idx, \":\",file.count())\n",
    "\n",
    "rdd1_lst[0].take(5)"
   ]
  },
  {
   "cell_type": "code",
   "execution_count": null,
   "metadata": {
    "scrolled": true
   },
   "outputs": [],
   "source": [
    "rdd2_lst = []\n",
    "for idx, rdd in enumerate(rdd1_lst) :\n",
    "    temp = rdd.filter(lambda line : \"price\" not in line)\n",
    "    rdd2_lst.append(temp)\n",
    "    #rdd1_lst[idx] = False\n",
    "    \n",
    "    #print(idx, \":\",temp.count())\n",
    "    \n",
    "rdd2_lst[0].take(5)"
   ]
  },
  {
   "cell_type": "markdown",
   "metadata": {},
   "source": [
    " "
   ]
  },
  {
   "cell_type": "markdown",
   "metadata": {},
   "source": [
    " "
   ]
  },
  {
   "cell_type": "code",
   "execution_count": null,
   "metadata": {},
   "outputs": [],
   "source": [
    "def mapper(line, mode) :\n",
    "    \n",
    "    if mode == \"4h\" : \n",
    "        splited = line.split(\",\")\n",
    "    \n",
    "        date, time = splited[0].split()\n",
    "        year, month, day = date.split(\"-\")\n",
    "        time = int(time.split(\":\")[0])\n",
    "    \n",
    "        amount = float(splited[1])\n",
    "        price = float(splited[2])\n",
    "        \n",
    "        for idx in range(0, 21, 4) :\n",
    "            if idx <= time and time < idx+4 :\n",
    "                time = idx\n",
    "                break\n",
    "        \n",
    "        if time < 10 :\n",
    "            time = \"0\" + str(time)\n",
    "        else :\n",
    "            time = str(time)\n",
    "            \n",
    "        key = date + \" \" + time + \":00:00\"\n",
    "        value =  (amount, amount, price, price, price, price, price, 1, price*abs(amount), price*amount)\n",
    "        return (key, value)\n",
    "        \n",
    "    elif mode == \"6h\" :\n",
    "        splited = line.split(\",\")\n",
    "    \n",
    "        date, time = splited[0].split()\n",
    "        year, month, day = date.split(\"-\")\n",
    "        time = int(time.split(\":\")[0])\n",
    "    \n",
    "        amount = float(splited[1])\n",
    "        price = float(splited[2])\n",
    "        \n",
    "        for idx in range(0, 19, 6) :\n",
    "            if idx <= time and time < idx+6 :\n",
    "                time = idx\n",
    "                break\n",
    "                \n",
    "        if time < 10 :\n",
    "            time = \"0\" + str(time)\n",
    "        else :\n",
    "            time = str(time)\n",
    "                \n",
    "        key = date + \" \" + time + \":00:00\"\n",
    "        value =  (amount, amount, price, price, price, price, price, 1, price*abs(amount), price*amount)\n",
    "        return (key, value)\n",
    "        \n",
    "    elif mode == \"12h\" :\n",
    "        input_key = line[0]\n",
    "        input_value = line[1]\n",
    "        \n",
    "        date, time = input_key.split()\n",
    "        year, month, day = date.split(\"-\")\n",
    "        time = int(time.split(\":\")[0])\n",
    "        \n",
    "        for idx in range(0, 13, 12) :\n",
    "            if idx <= time and time < idx+12 :\n",
    "                time = idx\n",
    "                break\n",
    "                \n",
    "        if time < 10 :\n",
    "            time = \"0\" + str(time)\n",
    "        else :\n",
    "            time = str(time)\n",
    "        \n",
    "        key = date + \" \" + time + \":00:00\"\n",
    "        value = input_value\n",
    "        return (key, value)\n",
    "        \n",
    "    elif mode == \"1d\" :\n",
    "        input_key = line[0]\n",
    "        input_value = line[1]\n",
    "        \n",
    "        date, time = input_key.split()\n",
    "        year, month, day = date.split(\"-\")\n",
    "        time = int(time.split(\":\")[0])\n",
    "                   \n",
    "        key = date + \" 00:00:00\"\n",
    "        value = input_value\n",
    "        return (key, value)\n",
    "    \n",
    "    elif mode == \"7d\" :\n",
    "        input_key = line[0]\n",
    "        input_value = line[1]\n",
    "        \n",
    "        date, time = input_key.split()\n",
    "        year, month, day = date.split(\"-\")\n",
    "        day = int(day)\n",
    "        \n",
    "        for idx in range(1, 32, 7) :\n",
    "            if idx <= day and day < idx+7 :\n",
    "                day = idx\n",
    "                \n",
    "                if day >= 22 :\n",
    "                    day = 22\n",
    "                \n",
    "                \n",
    "        if day < 10 :\n",
    "            day = \"0\" + str(day)\n",
    "        else :\n",
    "            day = str(day)\n",
    "        \n",
    "        key = year + \"-\" + month + \"-\" + day + \" 00:00:00\"\n",
    "        value = input_value\n",
    "        return (key, value)\n",
    "        \n",
    "        \n",
    "    elif mode == \"1m\" :\n",
    "        input_key = line[0]\n",
    "        input_value = line[1]\n",
    "        \n",
    "        date, time = input_key.split()\n",
    "        year, month, day = date.split(\"-\")\n",
    "                   \n",
    "        key = year + \"-\" + month + \"-00 00:00:00\"\n",
    "        value = input_value\n",
    "        return (key, value)"
   ]
  },
  {
   "cell_type": "code",
   "execution_count": null,
   "metadata": {},
   "outputs": [],
   "source": [
    "def reducer(x,y) :\n",
    "    #부호\n",
    "    sign = x[0] + y[0]\n",
    "    \n",
    "    #거래량\n",
    "    amount = abs(x[1]) + abs(y[1])\n",
    "    \n",
    "    #시가\n",
    "    start_price = x[2]\n",
    "    \n",
    "    #종가\n",
    "    end_price = y[3]\n",
    "    \n",
    "    #최고가격\n",
    "    max_price = max(x[4], y[4])\n",
    "    \n",
    "    #평균가격\n",
    "    avg_price = (x[5]*x[7] + y[5]*y[7]) / (x[7]+y[7])\n",
    "    \n",
    "    #최저가격\n",
    "    min_price = min(x[6], y[6])\n",
    "    \n",
    "    #거래횟수\n",
    "    count = x[7] + y[7]\n",
    "    \n",
    "    #거래금액\n",
    "    total_money = x[8] + y[8]\n",
    "    \n",
    "    #시총증감\n",
    "    market_cap = x[9] + y[9]\n",
    "    \n",
    "    return (sign, amount, start_price, end_price, max_price, avg_price, min_price, count, total_money, market_cap)"
   ]
  },
  {
   "cell_type": "code",
   "execution_count": null,
   "metadata": {},
   "outputs": [],
   "source": [
    "rdd3_lst = []\n",
    "\n",
    "for idx, rdd in enumerate(rdd2_lst) :\n",
    "    rdd_4h = rdd.map(lambda line : mapper(line, \"4h\")).reduceByKey(lambda x,y : reducer(x,y))\n",
    "    rdd_6h = rdd.map(lambda line : mapper(line, \"6h\")).reduceByKey(lambda x,y : reducer(x,y))\n",
    "    rdd_12h = rdd_6h.map(lambda line : mapper(line, \"12h\")).reduceByKey(lambda x,y : reducer(x,y))\n",
    "    rdd_1d = rdd_12h.map(lambda line : mapper(line, \"1d\")).reduceByKey(lambda x,y : reducer(x,y))\n",
    "    rdd_7d = rdd_1d.map(lambda line : mapper(line, \"7d\")).reduceByKey(lambda x,y : reducer(x,y))\n",
    "    rdd_1m = rdd_7d.map(lambda line : mapper(line, \"1m\")).reduceByKey(lambda x,y : reducer(x,y))\n",
    "    \n",
    "    rdd3_lst.append([rdd_4h,rdd_6h,rdd_12h,rdd_1d,rdd_7d,rdd_1m])\n",
    "    #rdd2_lst[idx] = False\n",
    "    print(idx)"
   ]
  },
  {
   "cell_type": "code",
   "execution_count": null,
   "metadata": {},
   "outputs": [],
   "source": [
    "rdd4_lst = list(zip(*rdd3_lst))\n",
    "rdd5_lst = []\n",
    "\n",
    "for lst in rdd4_lst :\n",
    "    result = sc.parallelize(range(0))\n",
    "    \n",
    "    for rdd in lst :\n",
    "        result = result.union(rdd)\n",
    "    result = result.reduceByKey(lambda x,y : reducer(x,y))\n",
    "    \n",
    "    print(\"check!\")\n",
    "    rdd5_lst.append(result)"
   ]
  },
  {
   "cell_type": "code",
   "execution_count": null,
   "metadata": {
    "scrolled": false
   },
   "outputs": [],
   "source": [
    "rdd5_lst[0].saveAsTextFile(\"file:///home/ubuntu/Ybigta/Project/bitcoin_project/output/output_4h\")\n",
    "rdd5_lst[1].saveAsTextFile(\"file:///home/ubuntu/Ybigta/Project/bitcoin_project/output/output_6h\")\n",
    "rdd5_lst[2].saveAsTextFile(\"file:///home/ubuntu/Ybigta/Project/bitcoin_project/output/output_12h\")\n",
    "rdd5_lst[3].saveAsTextFile(\"file:///home/ubuntu/Ybigta/Project/bitcoin_project/output/output_1d\")\n",
    "rdd5_lst[4].saveAsTextFile(\"file:///home/ubuntu/Ybigta/Project/bitcoin_project/output/output_7d\")\n",
    "rdd5_lst[5].saveAsTextFile(\"file:///home/ubuntu/Ybigta/Project/bitcoin_project/output/output_1m\")"
   ]
  },
  {
   "cell_type": "markdown",
   "metadata": {},
   "source": [
    " "
   ]
  },
  {
   "cell_type": "markdown",
   "metadata": {},
   "source": [
    " "
   ]
  },
  {
   "cell_type": "markdown",
   "metadata": {},
   "source": [
    " "
   ]
  },
  {
   "cell_type": "code",
   "execution_count": null,
   "metadata": {},
   "outputs": [],
   "source": [
    "df_4h = pd.DataFrame.from_items(rdd_4h).T\n",
    "df_6h = pd.DataFrame.from_items(rdd_6h).T\n",
    "df_12h = pd.DataFrame.from_items(rdd_12h).T\n",
    "df_1d = pd.DataFrame.from_items(rdd_1d).T\n",
    "df_7d = pd.DataFrame.from_items(rdd_7d).T\n",
    "df_1m = pd.DataFrame.from_items(rdd_1m).T"
   ]
  },
  {
   "cell_type": "code",
   "execution_count": null,
   "metadata": {},
   "outputs": [],
   "source": [
    "df_4h.to_csv(\"output/csv/bitcoin_4h.csv\")\n",
    "df_6h.to_csv(\"output/csv/bitcoin_6h.csv\")\n",
    "df_12h.to_csv(\"output/csv/bitcoin_12h.csv\")\n",
    "df_1d.to_csv(\"output/csv/bitcoin_1d.csv\")\n",
    "df_7d.to_csv(\"output/csv/bitcoin_7d.csv\")\n",
    "df_1m.to_csv(\"output/csv/bitcoin_1m.csv\")"
   ]
  },
  {
   "cell_type": "code",
   "execution_count": null,
   "metadata": {},
   "outputs": [],
   "source": []
  }
 ],
 "metadata": {
  "kernelspec": {
   "display_name": "Python 3",
   "language": "python",
   "name": "python3"
  },
  "language_info": {
   "codemirror_mode": {
    "name": "ipython",
    "version": 3
   },
   "file_extension": ".py",
   "mimetype": "text/x-python",
   "name": "python",
   "nbconvert_exporter": "python",
   "pygments_lexer": "ipython3",
   "version": "3.7.1"
  }
 },
 "nbformat": 4,
 "nbformat_minor": 2
}
