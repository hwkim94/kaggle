{
 "cells": [
  {
   "cell_type": "markdown",
   "metadata": {},
   "source": [
    "# 서비스"
   ]
  },
  {
   "cell_type": "code",
   "execution_count": 2,
   "metadata": {
    "collapsed": true
   },
   "outputs": [],
   "source": [
    "import pandas as pd\n",
    "import numpy as np\n",
    "import random\n",
    "import math\n",
    "from sklearn.linear_model import LinearRegression"
   ]
  },
  {
   "cell_type": "code",
   "execution_count": 3,
   "metadata": {
    "collapsed": true
   },
   "outputs": [],
   "source": [
    "def dist (A,B):\n",
    "    return  np.linalg.norm(np.asarray(A)-np.asarray(B))"
   ]
  },
  {
   "cell_type": "code",
   "execution_count": 4,
   "metadata": {
    "collapsed": true
   },
   "outputs": [],
   "source": [
    "def dist2 (A,B):\n",
    "    return np.dot(A[1], B[1]) / (math.sqrt(np.dot(A[1],A[1])) * math.sqrt(np.dot(B[1],B[1]))) "
   ]
  },
  {
   "cell_type": "code",
   "execution_count": 5,
   "metadata": {
    "scrolled": true
   },
   "outputs": [
    {
     "data": {
      "text/html": [
       "<div>\n",
       "<style>\n",
       "    .dataframe thead tr:only-child th {\n",
       "        text-align: right;\n",
       "    }\n",
       "\n",
       "    .dataframe thead th {\n",
       "        text-align: left;\n",
       "    }\n",
       "\n",
       "    .dataframe tbody tr th {\n",
       "        vertical-align: top;\n",
       "    }\n",
       "</style>\n",
       "<table border=\"1\" class=\"dataframe\">\n",
       "  <thead>\n",
       "    <tr style=\"text-align: right;\">\n",
       "      <th></th>\n",
       "      <th>0</th>\n",
       "      <th>Unnamed: 2</th>\n",
       "      <th>1</th>\n",
       "      <th>2</th>\n",
       "      <th>3</th>\n",
       "      <th>4</th>\n",
       "      <th>5</th>\n",
       "      <th>6</th>\n",
       "      <th>7</th>\n",
       "      <th>8</th>\n",
       "      <th>...</th>\n",
       "      <th>93</th>\n",
       "      <th>94</th>\n",
       "      <th>95</th>\n",
       "      <th>96</th>\n",
       "      <th>97</th>\n",
       "      <th>98</th>\n",
       "      <th>99</th>\n",
       "      <th>100</th>\n",
       "      <th>constant</th>\n",
       "      <th>review</th>\n",
       "    </tr>\n",
       "  </thead>\n",
       "  <tbody>\n",
       "    <tr>\n",
       "      <th>0</th>\n",
       "      <td>Buen Retiro Park</td>\n",
       "      <td>40.4152606,-3.6866882</td>\n",
       "      <td>0.006074</td>\n",
       "      <td>0.015016</td>\n",
       "      <td>-0.019423</td>\n",
       "      <td>0.018564</td>\n",
       "      <td>-0.009759</td>\n",
       "      <td>-0.006886</td>\n",
       "      <td>-0.018433</td>\n",
       "      <td>-0.013909</td>\n",
       "      <td>...</td>\n",
       "      <td>-0.008650</td>\n",
       "      <td>-0.006834</td>\n",
       "      <td>-0.026950</td>\n",
       "      <td>0.027968</td>\n",
       "      <td>-0.008397</td>\n",
       "      <td>-0.025122</td>\n",
       "      <td>0.019847</td>\n",
       "      <td>0.017991</td>\n",
       "      <td>1</td>\n",
       "      <td>0</td>\n",
       "    </tr>\n",
       "    <tr>\n",
       "      <th>1</th>\n",
       "      <td>Royal Palace of Madrid</td>\n",
       "      <td>40.417955,-3.7165007</td>\n",
       "      <td>-0.008575</td>\n",
       "      <td>0.011072</td>\n",
       "      <td>0.021896</td>\n",
       "      <td>0.037498</td>\n",
       "      <td>-0.007062</td>\n",
       "      <td>-0.015904</td>\n",
       "      <td>-0.032011</td>\n",
       "      <td>-0.022889</td>\n",
       "      <td>...</td>\n",
       "      <td>0.009787</td>\n",
       "      <td>0.014713</td>\n",
       "      <td>0.012928</td>\n",
       "      <td>0.059610</td>\n",
       "      <td>0.005517</td>\n",
       "      <td>-0.011633</td>\n",
       "      <td>0.039154</td>\n",
       "      <td>0.022247</td>\n",
       "      <td>1</td>\n",
       "      <td>0</td>\n",
       "    </tr>\n",
       "    <tr>\n",
       "      <th>2</th>\n",
       "      <td>Plaza Mayor, Madrid</td>\n",
       "      <td>40.415511,-3.7095896</td>\n",
       "      <td>-0.059536</td>\n",
       "      <td>0.003807</td>\n",
       "      <td>0.026556</td>\n",
       "      <td>-0.021477</td>\n",
       "      <td>0.013773</td>\n",
       "      <td>0.000883</td>\n",
       "      <td>-0.025927</td>\n",
       "      <td>0.016453</td>\n",
       "      <td>...</td>\n",
       "      <td>-0.016771</td>\n",
       "      <td>-0.005197</td>\n",
       "      <td>0.001791</td>\n",
       "      <td>0.001192</td>\n",
       "      <td>0.014492</td>\n",
       "      <td>0.004249</td>\n",
       "      <td>-0.014706</td>\n",
       "      <td>0.040941</td>\n",
       "      <td>1</td>\n",
       "      <td>0</td>\n",
       "    </tr>\n",
       "    <tr>\n",
       "      <th>3</th>\n",
       "      <td>Museo Nacional Del Prado</td>\n",
       "      <td>40.4137818,-3.6943158,17</td>\n",
       "      <td>-47.174987</td>\n",
       "      <td>-119.608533</td>\n",
       "      <td>129.087028</td>\n",
       "      <td>94.379929</td>\n",
       "      <td>14.554171</td>\n",
       "      <td>-107.823051</td>\n",
       "      <td>-32.864552</td>\n",
       "      <td>-121.548170</td>\n",
       "      <td>...</td>\n",
       "      <td>124.593445</td>\n",
       "      <td>-99.328298</td>\n",
       "      <td>18.251329</td>\n",
       "      <td>118.156372</td>\n",
       "      <td>-67.321282</td>\n",
       "      <td>-125.160456</td>\n",
       "      <td>92.102760</td>\n",
       "      <td>-16.275768</td>\n",
       "      <td>1</td>\n",
       "      <td>0</td>\n",
       "    </tr>\n",
       "    <tr>\n",
       "      <th>4</th>\n",
       "      <td>Puerta del Sol</td>\n",
       "      <td>40.4167278,-3.7055274</td>\n",
       "      <td>-0.015574</td>\n",
       "      <td>-0.005585</td>\n",
       "      <td>0.023721</td>\n",
       "      <td>0.016333</td>\n",
       "      <td>-0.020572</td>\n",
       "      <td>-0.008376</td>\n",
       "      <td>-0.034828</td>\n",
       "      <td>0.026511</td>\n",
       "      <td>...</td>\n",
       "      <td>-0.003937</td>\n",
       "      <td>-0.003371</td>\n",
       "      <td>0.009427</td>\n",
       "      <td>0.048953</td>\n",
       "      <td>0.016913</td>\n",
       "      <td>0.004462</td>\n",
       "      <td>0.025587</td>\n",
       "      <td>0.007159</td>\n",
       "      <td>1</td>\n",
       "      <td>0</td>\n",
       "    </tr>\n",
       "  </tbody>\n",
       "</table>\n",
       "<p>5 rows × 104 columns</p>\n",
       "</div>"
      ],
      "text/plain": [
       "                          0                Unnamed: 2          1           2  \\\n",
       "0          Buen Retiro Park     40.4152606,-3.6866882   0.006074    0.015016   \n",
       "1    Royal Palace of Madrid      40.417955,-3.7165007  -0.008575    0.011072   \n",
       "2       Plaza Mayor, Madrid      40.415511,-3.7095896  -0.059536    0.003807   \n",
       "3  Museo Nacional Del Prado  40.4137818,-3.6943158,17 -47.174987 -119.608533   \n",
       "4            Puerta del Sol     40.4167278,-3.7055274  -0.015574   -0.005585   \n",
       "\n",
       "            3          4          5           6          7           8  \\\n",
       "0   -0.019423   0.018564  -0.009759   -0.006886  -0.018433   -0.013909   \n",
       "1    0.021896   0.037498  -0.007062   -0.015904  -0.032011   -0.022889   \n",
       "2    0.026556  -0.021477   0.013773    0.000883  -0.025927    0.016453   \n",
       "3  129.087028  94.379929  14.554171 -107.823051 -32.864552 -121.548170   \n",
       "4    0.023721   0.016333  -0.020572   -0.008376  -0.034828    0.026511   \n",
       "\n",
       "    ...            93         94         95          96         97  \\\n",
       "0   ...     -0.008650  -0.006834  -0.026950    0.027968  -0.008397   \n",
       "1   ...      0.009787   0.014713   0.012928    0.059610   0.005517   \n",
       "2   ...     -0.016771  -0.005197   0.001791    0.001192   0.014492   \n",
       "3   ...    124.593445 -99.328298  18.251329  118.156372 -67.321282   \n",
       "4   ...     -0.003937  -0.003371   0.009427    0.048953   0.016913   \n",
       "\n",
       "           98         99        100  constant  review  \n",
       "0   -0.025122   0.019847   0.017991         1       0  \n",
       "1   -0.011633   0.039154   0.022247         1       0  \n",
       "2    0.004249  -0.014706   0.040941         1       0  \n",
       "3 -125.160456  92.102760 -16.275768         1       0  \n",
       "4    0.004462   0.025587   0.007159         1       0  \n",
       "\n",
       "[5 rows x 104 columns]"
      ]
     },
     "execution_count": 5,
     "metadata": {},
     "output_type": "execute_result"
    }
   ],
   "source": [
    "df = pd.read_csv(\"vector.csv\", encoding=\"cp949\")\n",
    "df = df.drop(\"Unnamed: 0\", axis = 1)\n",
    "df[\"constant\"] = 1\n",
    "df[\"review\"] = 0 \n",
    "\n",
    "df.head()"
   ]
  },
  {
   "cell_type": "markdown",
   "metadata": {},
   "source": [
    " "
   ]
  },
  {
   "cell_type": "markdown",
   "metadata": {},
   "source": [
    " "
   ]
  },
  {
   "cell_type": "code",
   "execution_count": 6,
   "metadata": {
    "scrolled": true
   },
   "outputs": [
    {
     "data": {
      "text/html": [
       "<div>\n",
       "<style>\n",
       "    .dataframe thead tr:only-child th {\n",
       "        text-align: right;\n",
       "    }\n",
       "\n",
       "    .dataframe thead th {\n",
       "        text-align: left;\n",
       "    }\n",
       "\n",
       "    .dataframe tbody tr th {\n",
       "        vertical-align: top;\n",
       "    }\n",
       "</style>\n",
       "<table border=\"1\" class=\"dataframe\">\n",
       "  <thead>\n",
       "    <tr style=\"text-align: right;\">\n",
       "      <th></th>\n",
       "      <th>0</th>\n",
       "      <th>Unnamed: 2</th>\n",
       "      <th>1</th>\n",
       "      <th>2</th>\n",
       "      <th>3</th>\n",
       "      <th>4</th>\n",
       "      <th>5</th>\n",
       "      <th>6</th>\n",
       "      <th>7</th>\n",
       "      <th>8</th>\n",
       "      <th>...</th>\n",
       "      <th>93</th>\n",
       "      <th>94</th>\n",
       "      <th>95</th>\n",
       "      <th>96</th>\n",
       "      <th>97</th>\n",
       "      <th>98</th>\n",
       "      <th>99</th>\n",
       "      <th>100</th>\n",
       "      <th>constant</th>\n",
       "      <th>review</th>\n",
       "    </tr>\n",
       "  </thead>\n",
       "  <tbody>\n",
       "    <tr>\n",
       "      <th>0</th>\n",
       "      <td>Buen Retiro Park</td>\n",
       "      <td>40.4152606,-3.6866882</td>\n",
       "      <td>0.006074</td>\n",
       "      <td>0.015016</td>\n",
       "      <td>-0.019423</td>\n",
       "      <td>0.018564</td>\n",
       "      <td>-0.009759</td>\n",
       "      <td>-0.006886</td>\n",
       "      <td>-0.018433</td>\n",
       "      <td>-0.013909</td>\n",
       "      <td>...</td>\n",
       "      <td>-0.008650</td>\n",
       "      <td>-0.006834</td>\n",
       "      <td>-0.026950</td>\n",
       "      <td>0.027968</td>\n",
       "      <td>-0.008397</td>\n",
       "      <td>-0.025122</td>\n",
       "      <td>0.019847</td>\n",
       "      <td>0.017991</td>\n",
       "      <td>1</td>\n",
       "      <td>5</td>\n",
       "    </tr>\n",
       "    <tr>\n",
       "      <th>1</th>\n",
       "      <td>Royal Palace of Madrid</td>\n",
       "      <td>40.417955,-3.7165007</td>\n",
       "      <td>-0.008575</td>\n",
       "      <td>0.011072</td>\n",
       "      <td>0.021896</td>\n",
       "      <td>0.037498</td>\n",
       "      <td>-0.007062</td>\n",
       "      <td>-0.015904</td>\n",
       "      <td>-0.032011</td>\n",
       "      <td>-0.022889</td>\n",
       "      <td>...</td>\n",
       "      <td>0.009787</td>\n",
       "      <td>0.014713</td>\n",
       "      <td>0.012928</td>\n",
       "      <td>0.059610</td>\n",
       "      <td>0.005517</td>\n",
       "      <td>-0.011633</td>\n",
       "      <td>0.039154</td>\n",
       "      <td>0.022247</td>\n",
       "      <td>1</td>\n",
       "      <td>3</td>\n",
       "    </tr>\n",
       "    <tr>\n",
       "      <th>2</th>\n",
       "      <td>Plaza Mayor, Madrid</td>\n",
       "      <td>40.415511,-3.7095896</td>\n",
       "      <td>-0.059536</td>\n",
       "      <td>0.003807</td>\n",
       "      <td>0.026556</td>\n",
       "      <td>-0.021477</td>\n",
       "      <td>0.013773</td>\n",
       "      <td>0.000883</td>\n",
       "      <td>-0.025927</td>\n",
       "      <td>0.016453</td>\n",
       "      <td>...</td>\n",
       "      <td>-0.016771</td>\n",
       "      <td>-0.005197</td>\n",
       "      <td>0.001791</td>\n",
       "      <td>0.001192</td>\n",
       "      <td>0.014492</td>\n",
       "      <td>0.004249</td>\n",
       "      <td>-0.014706</td>\n",
       "      <td>0.040941</td>\n",
       "      <td>1</td>\n",
       "      <td>5</td>\n",
       "    </tr>\n",
       "    <tr>\n",
       "      <th>3</th>\n",
       "      <td>Museo Nacional Del Prado</td>\n",
       "      <td>40.4137818,-3.6943158,17</td>\n",
       "      <td>-47.174987</td>\n",
       "      <td>-119.608533</td>\n",
       "      <td>129.087028</td>\n",
       "      <td>94.379929</td>\n",
       "      <td>14.554171</td>\n",
       "      <td>-107.823051</td>\n",
       "      <td>-32.864552</td>\n",
       "      <td>-121.548170</td>\n",
       "      <td>...</td>\n",
       "      <td>124.593445</td>\n",
       "      <td>-99.328298</td>\n",
       "      <td>18.251329</td>\n",
       "      <td>118.156372</td>\n",
       "      <td>-67.321282</td>\n",
       "      <td>-125.160456</td>\n",
       "      <td>92.102760</td>\n",
       "      <td>-16.275768</td>\n",
       "      <td>1</td>\n",
       "      <td>1</td>\n",
       "    </tr>\n",
       "    <tr>\n",
       "      <th>4</th>\n",
       "      <td>Puerta del Sol</td>\n",
       "      <td>40.4167278,-3.7055274</td>\n",
       "      <td>-0.015574</td>\n",
       "      <td>-0.005585</td>\n",
       "      <td>0.023721</td>\n",
       "      <td>0.016333</td>\n",
       "      <td>-0.020572</td>\n",
       "      <td>-0.008376</td>\n",
       "      <td>-0.034828</td>\n",
       "      <td>0.026511</td>\n",
       "      <td>...</td>\n",
       "      <td>-0.003937</td>\n",
       "      <td>-0.003371</td>\n",
       "      <td>0.009427</td>\n",
       "      <td>0.048953</td>\n",
       "      <td>0.016913</td>\n",
       "      <td>0.004462</td>\n",
       "      <td>0.025587</td>\n",
       "      <td>0.007159</td>\n",
       "      <td>1</td>\n",
       "      <td>4</td>\n",
       "    </tr>\n",
       "  </tbody>\n",
       "</table>\n",
       "<p>5 rows × 104 columns</p>\n",
       "</div>"
      ],
      "text/plain": [
       "                          0                Unnamed: 2          1           2  \\\n",
       "0          Buen Retiro Park     40.4152606,-3.6866882   0.006074    0.015016   \n",
       "1    Royal Palace of Madrid      40.417955,-3.7165007  -0.008575    0.011072   \n",
       "2       Plaza Mayor, Madrid      40.415511,-3.7095896  -0.059536    0.003807   \n",
       "3  Museo Nacional Del Prado  40.4137818,-3.6943158,17 -47.174987 -119.608533   \n",
       "4            Puerta del Sol     40.4167278,-3.7055274  -0.015574   -0.005585   \n",
       "\n",
       "            3          4          5           6          7           8  \\\n",
       "0   -0.019423   0.018564  -0.009759   -0.006886  -0.018433   -0.013909   \n",
       "1    0.021896   0.037498  -0.007062   -0.015904  -0.032011   -0.022889   \n",
       "2    0.026556  -0.021477   0.013773    0.000883  -0.025927    0.016453   \n",
       "3  129.087028  94.379929  14.554171 -107.823051 -32.864552 -121.548170   \n",
       "4    0.023721   0.016333  -0.020572   -0.008376  -0.034828    0.026511   \n",
       "\n",
       "    ...            93         94         95          96         97  \\\n",
       "0   ...     -0.008650  -0.006834  -0.026950    0.027968  -0.008397   \n",
       "1   ...      0.009787   0.014713   0.012928    0.059610   0.005517   \n",
       "2   ...     -0.016771  -0.005197   0.001791    0.001192   0.014492   \n",
       "3   ...    124.593445 -99.328298  18.251329  118.156372 -67.321282   \n",
       "4   ...     -0.003937  -0.003371   0.009427    0.048953   0.016913   \n",
       "\n",
       "           98         99        100  constant  review  \n",
       "0   -0.025122   0.019847   0.017991         1       5  \n",
       "1   -0.011633   0.039154   0.022247         1       3  \n",
       "2    0.004249  -0.014706   0.040941         1       5  \n",
       "3 -125.160456  92.102760 -16.275768         1       1  \n",
       "4    0.004462   0.025587   0.007159         1       4  \n",
       "\n",
       "[5 rows x 104 columns]"
      ]
     },
     "execution_count": 6,
     "metadata": {},
     "output_type": "execute_result"
    }
   ],
   "source": [
    "df_test = df[:5]\n",
    "df_test.set_value(0, \"review\", 5)\n",
    "df_test.set_value(1, \"review\", 3)\n",
    "df_test.set_value(2, \"review\", 5)\n",
    "df_test.set_value(3, \"review\", 1)\n",
    "df_test.set_value(4, \"review\", 4)\n",
    "\n",
    "df_test.head()"
   ]
  },
  {
   "cell_type": "code",
   "execution_count": 7,
   "metadata": {
    "collapsed": true
   },
   "outputs": [],
   "source": [
    "feature = list(map(lambda x: str(x), list(range(1,101)))) + [\"constant\"]\n",
    "target = \"review\""
   ]
  },
  {
   "cell_type": "code",
   "execution_count": 8,
   "metadata": {
    "collapsed": true
   },
   "outputs": [],
   "source": [
    "model = LinearRegression()"
   ]
  },
  {
   "cell_type": "code",
   "execution_count": 9,
   "metadata": {},
   "outputs": [
    {
     "data": {
      "text/plain": [
       "LinearRegression(copy_X=True, fit_intercept=True, n_jobs=1, normalize=False)"
      ]
     },
     "execution_count": 9,
     "metadata": {},
     "output_type": "execute_result"
    }
   ],
   "source": [
    "model.fit(df_test[feature], df_test[target])"
   ]
  },
  {
   "cell_type": "code",
   "execution_count": 10,
   "metadata": {
    "scrolled": true
   },
   "outputs": [
    {
     "name": "stdout",
     "output_type": "stream",
     "text": [
      "100\n",
      "[-0.51333123414046966, 0.12833006892616128, -0.65154946463558727, -1.0800565540784146, 0.43314789732621284, 0.36067129605671244, 0.36089775008511071, 0.30370299678894275, -0.48672024013484783, 0.70333901694584988, -1.0646552159184204, -1.0263578975252783, 0.82949941982390507, -0.055503150644040822, -0.31707087716826976, 1.1949258864697145, -0.014597085225193152, 0.18840727526387144, 0.82622948662752937, 1.2699532254808985, -0.3932636695389487, 0.40165405192667075, -1.0114585641072085, 0.64908669331513347, 1.2555181265698052, 0.087912205244870797, 0.70769813414468774, -1.1486021775104489, -0.57752767611348788, 0.4786366423605084, -0.46907814617399296, -1.4113127196143813, 0.17172748148655473, 0.61074923270979586, 0.61182366938844879, -0.30980062778230882, 1.5301327551936652, 0.25568999420811056, 0.39734162504079873, 0.29258073754296543, 0.32033997159092853, -0.57939367621484283, 1.3796651794678705, -0.51876271481420644, -0.039196560138945839, -0.2483189977950071, -0.24835963572025202, -0.2986693945951307, -0.19707287634054793, 0.70929298901042426, -0.40704757619792226, -0.084400140823924233, 0.0030607523192440617, 0.93033851303603476, -0.42793263695465217, -0.51435676707416911, 1.0081935697755497, -0.78180281032141452, 0.57349871709880629, 0.94735446966397707, -0.44912399748082493, -0.060532487099307884, 0.46980610005836143, -0.65291480408335578, -0.43001385208128062, -1.1542196871119239, 0.050710348783079402, -1.3553294797524784, -0.88088010651468429, -0.38781424462307335, -0.34891645856593706, 1.4108881365098764, 1.3814343439327732, -0.39807770829427969, 0.21005125195026147, 0.49749603622090471, -0.10595005792158343, -1.3913552132242903, -0.97182223838446824, -1.4854056005144838, 0.55485458804321519, 0.0020013530049367359, 1.0716697531008963, -0.48711108507070194, -1.8963422124376146, -0.60589512624133202, -0.62285128911379806, 0.89941446925500357, 0.60588412069715747, 0.04293043463512497, 0.75784775745808652, -0.45951804489093495, -0.61830979012325271, -0.49690832984597427, -0.82205545860776019, -1.3950086356350617, -0.19798719694009989, -0.12020142771943707, -1.079815011334426, 0.39058163413141833]\n",
      "0.0\n"
     ]
    }
   ],
   "source": [
    "coef =list(model.coef_)\n",
    "coef, beta = coef[:-1], coef[-1]\n",
    "\n",
    "print(len(coef))\n",
    "print(coef)\n",
    "print(beta)"
   ]
  },
  {
   "cell_type": "code",
   "execution_count": 11,
   "metadata": {
    "collapsed": true,
    "scrolled": true
   },
   "outputs": [],
   "source": [
    "A = np.asarray(coef)\n",
    "AT = A.reshape(len(A), 1)\n",
    "A = A.reshape(1, len(A))\n",
    "ATA = np.matmul(AT, A)"
   ]
  },
  {
   "cell_type": "code",
   "execution_count": 40,
   "metadata": {
    "collapsed": true
   },
   "outputs": [],
   "source": [
    "X = np.matmul(np.linalg.inv(ATA+( 0.00000000001* np.random.rand(100, 100))), (5-beta) * AT) * 0.01"
   ]
  },
  {
   "cell_type": "code",
   "execution_count": 41,
   "metadata": {
    "collapsed": true
   },
   "outputs": [],
   "source": [
    "X = list(X.reshape(1, 100)[0])"
   ]
  },
  {
   "cell_type": "code",
   "execution_count": 42,
   "metadata": {
    "scrolled": true
   },
   "outputs": [
    {
     "name": "stdout",
     "output_type": "stream",
     "text": [
      "100\n",
      "0.00907440185547\n"
     ]
    },
    {
     "data": {
      "text/plain": [
       "[0.00229736328125,\n",
       " 0.0066027832031250004,\n",
       " -0.0063537597656250005,\n",
       " -0.0041174316406250005,\n",
       " -0.008250122070312501,\n",
       " -0.0056140136718750002,\n",
       " 0.0086169433593750004,\n",
       " 0.0027148437500000002,\n",
       " 0.0029223632812500002,\n",
       " 4.6386718750000001e-05,\n",
       " 0.0048852539062500004,\n",
       " 0.0018041992187500001,\n",
       " -0.0058114624023437502,\n",
       " -0.0042285156250000001,\n",
       " 0.0051733398437500003,\n",
       " 0.00044067382812499998,\n",
       " -0.0064865112304687503,\n",
       " -0.0023944091796875002,\n",
       " 0.000513916015625,\n",
       " -0.0068420410156250005,\n",
       " -0.010590209960937499,\n",
       " -0.00189544677734375,\n",
       " 0.000880126953125,\n",
       " -0.00260498046875,\n",
       " 0.003406982421875,\n",
       " 0.00040649414062500001,\n",
       " -0.001605224609375,\n",
       " 0.0031469726562500001,\n",
       " -0.0022702980041503906,\n",
       " 0.0015155029296875001,\n",
       " 0.0071078491210937499,\n",
       " -0.0024487304687499998,\n",
       " -0.00011917114257812501,\n",
       " 0.0020486450195312499,\n",
       " 0.0042184448242187497,\n",
       " -0.00079711914062500003,\n",
       " -0.0028979492187500002,\n",
       " 0.0054003906250000002,\n",
       " -0.0074699401855468752,\n",
       " -0.00469970703125,\n",
       " 0.0030920410156250002,\n",
       " -0.001605224609375,\n",
       " 0.0009765625,\n",
       " 0.00091552734375,\n",
       " 0.0018505859375,\n",
       " -0.002755126953125,\n",
       " 0.0015176391601562501,\n",
       " -0.0039477539062500004,\n",
       " 0.00567626953125,\n",
       " 0.002552490234375,\n",
       " 0.0066430664062500002,\n",
       " 0.00065917968750000004,\n",
       " -0.00059570312499999999,\n",
       " 0.0041497802734374997,\n",
       " -0.0031937408447265626,\n",
       " -0.0071752929687500001,\n",
       " 0.0019793701171875,\n",
       " 0.00327392578125,\n",
       " 0.0042443847656250004,\n",
       " 0.007529296875,\n",
       " 0.00036254882812500002,\n",
       " -0.0069506835937499997,\n",
       " 0.00096313476562500007,\n",
       " -0.003531494140625,\n",
       " 0.0025573730468749999,\n",
       " -0.00099609375000000002,\n",
       " 0.0019317626953125001,\n",
       " -0.0023217773437499999,\n",
       " -0.0046490478515625001,\n",
       " -0.0040518188476562503,\n",
       " 0.0069024658203125002,\n",
       " 0.0084716796875000007,\n",
       " 0.0035693359375000002,\n",
       " -0.0037170410156249999,\n",
       " 0.0090744018554687507,\n",
       " 0.0010620117187500001,\n",
       " 0.0016650390625000001,\n",
       " 0.0011273193359374999,\n",
       " -0.0056616210937500003,\n",
       " 0.0046258544921875004,\n",
       " 0.0033129882812500001,\n",
       " -0.00248291015625,\n",
       " 0.0084228515625,\n",
       " -0.0036218261718750002,\n",
       " -0.0024069213867187501,\n",
       " -0.00661376953125,\n",
       " -0.0064785766601562498,\n",
       " -0.0016937255859375,\n",
       " -0.0024487304687499998,\n",
       " 0.00029785156249999999,\n",
       " 0.00188232421875,\n",
       " 0.0033605957031250001,\n",
       " -0.00072509765625000005,\n",
       " -0.001636962890625,\n",
       " -0.0019689941406249999,\n",
       " -0.00028205871582031249,\n",
       " 0.0062500000000000003,\n",
       " 0.0013476562500000001,\n",
       " 0.00093872070312500005,\n",
       " -0.0085156250000000006]"
      ]
     },
     "execution_count": 42,
     "metadata": {},
     "output_type": "execute_result"
    }
   ],
   "source": [
    "print(len(X))\n",
    "print(max(list(X)))\n",
    "X"
   ]
  },
  {
   "cell_type": "markdown",
   "metadata": {},
   "source": [
    "\n",
    " "
   ]
  },
  {
   "cell_type": "markdown",
   "metadata": {},
   "source": [
    " "
   ]
  },
  {
   "cell_type": "code",
   "execution_count": 43,
   "metadata": {},
   "outputs": [
    {
     "data": {
      "text/html": [
       "<div>\n",
       "<style>\n",
       "    .dataframe thead tr:only-child th {\n",
       "        text-align: right;\n",
       "    }\n",
       "\n",
       "    .dataframe thead th {\n",
       "        text-align: left;\n",
       "    }\n",
       "\n",
       "    .dataframe tbody tr th {\n",
       "        vertical-align: top;\n",
       "    }\n",
       "</style>\n",
       "<table border=\"1\" class=\"dataframe\">\n",
       "  <thead>\n",
       "    <tr style=\"text-align: right;\">\n",
       "      <th></th>\n",
       "      <th>0</th>\n",
       "      <th>1</th>\n",
       "      <th>2</th>\n",
       "      <th>3</th>\n",
       "      <th>4</th>\n",
       "      <th>5</th>\n",
       "      <th>6</th>\n",
       "      <th>7</th>\n",
       "      <th>8</th>\n",
       "      <th>9</th>\n",
       "      <th>...</th>\n",
       "      <th>91</th>\n",
       "      <th>92</th>\n",
       "      <th>93</th>\n",
       "      <th>94</th>\n",
       "      <th>95</th>\n",
       "      <th>96</th>\n",
       "      <th>97</th>\n",
       "      <th>98</th>\n",
       "      <th>99</th>\n",
       "      <th>100</th>\n",
       "    </tr>\n",
       "  </thead>\n",
       "  <tbody>\n",
       "    <tr>\n",
       "      <th>0</th>\n",
       "      <td>Buen Retiro Park</td>\n",
       "      <td>0.006074</td>\n",
       "      <td>0.015016</td>\n",
       "      <td>-0.019423</td>\n",
       "      <td>0.018564</td>\n",
       "      <td>-0.009759</td>\n",
       "      <td>-0.006886</td>\n",
       "      <td>-0.018433</td>\n",
       "      <td>-0.013909</td>\n",
       "      <td>-0.017161</td>\n",
       "      <td>...</td>\n",
       "      <td>0.034489</td>\n",
       "      <td>0.021697</td>\n",
       "      <td>-0.008650</td>\n",
       "      <td>-0.006834</td>\n",
       "      <td>-0.026950</td>\n",
       "      <td>0.027968</td>\n",
       "      <td>-0.008397</td>\n",
       "      <td>-0.025122</td>\n",
       "      <td>0.019847</td>\n",
       "      <td>0.017991</td>\n",
       "    </tr>\n",
       "    <tr>\n",
       "      <th>1</th>\n",
       "      <td>Royal Palace of Madrid</td>\n",
       "      <td>-0.008575</td>\n",
       "      <td>0.011072</td>\n",
       "      <td>0.021896</td>\n",
       "      <td>0.037498</td>\n",
       "      <td>-0.007062</td>\n",
       "      <td>-0.015904</td>\n",
       "      <td>-0.032011</td>\n",
       "      <td>-0.022889</td>\n",
       "      <td>0.013547</td>\n",
       "      <td>...</td>\n",
       "      <td>-0.015113</td>\n",
       "      <td>0.036001</td>\n",
       "      <td>0.009787</td>\n",
       "      <td>0.014713</td>\n",
       "      <td>0.012928</td>\n",
       "      <td>0.059610</td>\n",
       "      <td>0.005517</td>\n",
       "      <td>-0.011633</td>\n",
       "      <td>0.039154</td>\n",
       "      <td>0.022247</td>\n",
       "    </tr>\n",
       "    <tr>\n",
       "      <th>2</th>\n",
       "      <td>Plaza Mayor, Madrid</td>\n",
       "      <td>-0.059536</td>\n",
       "      <td>0.003807</td>\n",
       "      <td>0.026556</td>\n",
       "      <td>-0.021477</td>\n",
       "      <td>0.013773</td>\n",
       "      <td>0.000883</td>\n",
       "      <td>-0.025927</td>\n",
       "      <td>0.016453</td>\n",
       "      <td>0.000892</td>\n",
       "      <td>...</td>\n",
       "      <td>-0.000753</td>\n",
       "      <td>0.008342</td>\n",
       "      <td>-0.016771</td>\n",
       "      <td>-0.005197</td>\n",
       "      <td>0.001791</td>\n",
       "      <td>0.001192</td>\n",
       "      <td>0.014492</td>\n",
       "      <td>0.004249</td>\n",
       "      <td>-0.014706</td>\n",
       "      <td>0.040941</td>\n",
       "    </tr>\n",
       "    <tr>\n",
       "      <th>3</th>\n",
       "      <td>Museo Nacional Del Prado</td>\n",
       "      <td>-47.174987</td>\n",
       "      <td>-119.608533</td>\n",
       "      <td>129.087028</td>\n",
       "      <td>94.379929</td>\n",
       "      <td>14.554171</td>\n",
       "      <td>-107.823051</td>\n",
       "      <td>-32.864552</td>\n",
       "      <td>-121.548170</td>\n",
       "      <td>-20.673760</td>\n",
       "      <td>...</td>\n",
       "      <td>125.951244</td>\n",
       "      <td>5.299161</td>\n",
       "      <td>124.593445</td>\n",
       "      <td>-99.328298</td>\n",
       "      <td>18.251329</td>\n",
       "      <td>118.156372</td>\n",
       "      <td>-67.321282</td>\n",
       "      <td>-125.160456</td>\n",
       "      <td>92.102760</td>\n",
       "      <td>-16.275768</td>\n",
       "    </tr>\n",
       "    <tr>\n",
       "      <th>4</th>\n",
       "      <td>Puerta del Sol</td>\n",
       "      <td>-0.015574</td>\n",
       "      <td>-0.005585</td>\n",
       "      <td>0.023721</td>\n",
       "      <td>0.016333</td>\n",
       "      <td>-0.020572</td>\n",
       "      <td>-0.008376</td>\n",
       "      <td>-0.034828</td>\n",
       "      <td>0.026511</td>\n",
       "      <td>-0.009717</td>\n",
       "      <td>...</td>\n",
       "      <td>0.014649</td>\n",
       "      <td>0.012851</td>\n",
       "      <td>-0.003937</td>\n",
       "      <td>-0.003371</td>\n",
       "      <td>0.009427</td>\n",
       "      <td>0.048953</td>\n",
       "      <td>0.016913</td>\n",
       "      <td>0.004462</td>\n",
       "      <td>0.025587</td>\n",
       "      <td>0.007159</td>\n",
       "    </tr>\n",
       "  </tbody>\n",
       "</table>\n",
       "<p>5 rows × 101 columns</p>\n",
       "</div>"
      ],
      "text/plain": [
       "                          0          1           2           3          4  \\\n",
       "0          Buen Retiro Park   0.006074    0.015016   -0.019423   0.018564   \n",
       "1    Royal Palace of Madrid  -0.008575    0.011072    0.021896   0.037498   \n",
       "2       Plaza Mayor, Madrid  -0.059536    0.003807    0.026556  -0.021477   \n",
       "3  Museo Nacional Del Prado -47.174987 -119.608533  129.087028  94.379929   \n",
       "4            Puerta del Sol  -0.015574   -0.005585    0.023721   0.016333   \n",
       "\n",
       "           5           6          7           8          9    ...      \\\n",
       "0  -0.009759   -0.006886  -0.018433   -0.013909  -0.017161    ...       \n",
       "1  -0.007062   -0.015904  -0.032011   -0.022889   0.013547    ...       \n",
       "2   0.013773    0.000883  -0.025927    0.016453   0.000892    ...       \n",
       "3  14.554171 -107.823051 -32.864552 -121.548170 -20.673760    ...       \n",
       "4  -0.020572   -0.008376  -0.034828    0.026511  -0.009717    ...       \n",
       "\n",
       "           91        92          93         94         95          96  \\\n",
       "0    0.034489  0.021697   -0.008650  -0.006834  -0.026950    0.027968   \n",
       "1   -0.015113  0.036001    0.009787   0.014713   0.012928    0.059610   \n",
       "2   -0.000753  0.008342   -0.016771  -0.005197   0.001791    0.001192   \n",
       "3  125.951244  5.299161  124.593445 -99.328298  18.251329  118.156372   \n",
       "4    0.014649  0.012851   -0.003937  -0.003371   0.009427    0.048953   \n",
       "\n",
       "          97          98         99        100  \n",
       "0  -0.008397   -0.025122   0.019847   0.017991  \n",
       "1   0.005517   -0.011633   0.039154   0.022247  \n",
       "2   0.014492    0.004249  -0.014706   0.040941  \n",
       "3 -67.321282 -125.160456  92.102760 -16.275768  \n",
       "4   0.016913    0.004462   0.025587   0.007159  \n",
       "\n",
       "[5 rows x 101 columns]"
      ]
     },
     "execution_count": 43,
     "metadata": {},
     "output_type": "execute_result"
    }
   ],
   "source": [
    "col = list(map(lambda x: str(x), list(range(0,101))))\n",
    "df2 = df[col]\n",
    "\n",
    "df2.head()"
   ]
  },
  {
   "cell_type": "markdown",
   "metadata": {},
   "source": [
    " "
   ]
  },
  {
   "cell_type": "markdown",
   "metadata": {},
   "source": [
    "# 유클리디안 거리"
   ]
  },
  {
   "cell_type": "code",
   "execution_count": 44,
   "metadata": {
    "collapsed": true
   },
   "outputs": [],
   "source": [
    "distance_lst1 = []\n",
    "\n",
    "for idx in range(len(df2.values)) :\n",
    "    XX =list(df2.iloc[idx][1:])\n",
    "    d = dist(list(X), list(XX))\n",
    "    distance_lst1.append((df2.iloc[idx][0],d))\n",
    "    \n"
   ]
  },
  {
   "cell_type": "code",
   "execution_count": 45,
   "metadata": {
    "scrolled": true
   },
   "outputs": [
    {
     "data": {
      "text/html": [
       "<div>\n",
       "<style>\n",
       "    .dataframe thead tr:only-child th {\n",
       "        text-align: right;\n",
       "    }\n",
       "\n",
       "    .dataframe thead th {\n",
       "        text-align: left;\n",
       "    }\n",
       "\n",
       "    .dataframe tbody tr th {\n",
       "        vertical-align: top;\n",
       "    }\n",
       "</style>\n",
       "<table border=\"1\" class=\"dataframe\">\n",
       "  <thead>\n",
       "    <tr style=\"text-align: right;\">\n",
       "      <th></th>\n",
       "      <th>0</th>\n",
       "      <th>1</th>\n",
       "    </tr>\n",
       "  </thead>\n",
       "  <tbody>\n",
       "    <tr>\n",
       "      <th>0</th>\n",
       "      <td>Buen Retiro Park</td>\n",
       "      <td>0.190903</td>\n",
       "    </tr>\n",
       "    <tr>\n",
       "      <th>1</th>\n",
       "      <td>Royal Palace of Madrid</td>\n",
       "      <td>0.300661</td>\n",
       "    </tr>\n",
       "    <tr>\n",
       "      <th>2</th>\n",
       "      <td>Plaza Mayor, Madrid</td>\n",
       "      <td>0.205523</td>\n",
       "    </tr>\n",
       "    <tr>\n",
       "      <th>3</th>\n",
       "      <td>Museo Nacional Del Prado</td>\n",
       "      <td>810.835050</td>\n",
       "    </tr>\n",
       "    <tr>\n",
       "      <th>4</th>\n",
       "      <td>Puerta del Sol</td>\n",
       "      <td>0.223149</td>\n",
       "    </tr>\n",
       "  </tbody>\n",
       "</table>\n",
       "</div>"
      ],
      "text/plain": [
       "                          0           1\n",
       "0          Buen Retiro Park    0.190903\n",
       "1    Royal Palace of Madrid    0.300661\n",
       "2       Plaza Mayor, Madrid    0.205523\n",
       "3  Museo Nacional Del Prado  810.835050\n",
       "4            Puerta del Sol    0.223149"
      ]
     },
     "execution_count": 45,
     "metadata": {},
     "output_type": "execute_result"
    }
   ],
   "source": [
    "d_df1 = pd.DataFrame.from_records(distance_lst1)\n",
    "d_df1.head()"
   ]
  },
  {
   "cell_type": "code",
   "execution_count": 46,
   "metadata": {
    "scrolled": true
   },
   "outputs": [
    {
     "name": "stdout",
     "output_type": "stream",
     "text": [
      "[('Quinta Nova da Assun??o', 0.043093043846505322), ('Williams &amp; Humbert', 0.043146318235102926), ('Roman ruins of Troy - Portugal', 0.043148087827124454), ('Marques de Pombal Palace', 0.043215000519440258), ('Over Time Escape Room Pamplona', 0.043242211845150917), ('Leaning Tower of Zaragoza', 0.043250484687856625), ('Thyssen-Bornemisza Museum', 0.043369367158399501), ('Manuel de Falla House Museum', 0.043385711976788172), ('Corral del Carb?n', 0.043385711976788172), ('Reproductions Museum Bilbao', 0.043385711976788172), ('Playa de la Misericordia', 0.043385711976788172), ('Mosque of C?rdoba', 0.043385711976788172), ('Pueblo Espa?ol de Palma de Mallorca', 0.043385711976788172), ('Palacio de Monterrey', 0.043385711976788172), ('Casa de Santa Teresa de Jes?s', 0.043385711976788172), ('W?rzburg Park', 0.043385711976788172), ('San Mart?n Centro de Cultura Contempor?nea', 0.043385711976788172), ('Faro de la plata', 0.043385711976788172), ('Antigua fuente de Rua', 0.043385711976788172), ('Abbey of Santa Mar?a la Real de Las Huelgas', 0.043385711976788172), ('Paseo de la Audiencia', 0.043385711976788172), ('International Bagpipe Museum', 0.043385711976788172), ('Cerro de Santa Catalina', 0.043385711976788172), ('EnigmaPark', 0.043385711976788172), ('No?in Aqueduct', 0.043385711976788172), ('Parque de los sentidos', 0.043385711976788172), ('Statue of the Capitoline Wolf', 0.043385711976788172), ('Real Monasterio de Santo Tom?s', 0.043385711976788172), ('Casa de las Ciencias (La Coru?a)', 0.043385711976788172), ('Plaza del General Azc?rraga', 0.043385711976788172), ('Edificio De Las Mariposas', 0.043385711976788172), ('Cerro San Cristobal', 0.043385711976788172), ('Playa de Las Teresitas', 0.043385711976788172), ('Playa de las Teresitas', 0.043385711976788172), ('Museum of Popular Arts &amp; Customs', 0.043385711976788172), ('La Fuente De Los Ni?os', 0.043385711976788172), ('Roman walls of Lugo', 0.043385711976788172), ('Rocio Jurado monument', 0.043385711976788172), ('Falperra Church', 0.043385711976788172), ('Garden Central Avenue', 0.043385711976788172)]\n"
     ]
    }
   ],
   "source": [
    "sorted_d1 = sorted(distance_lst1, key = lambda x : x[1])\n",
    "print(sorted_d1[:40])"
   ]
  },
  {
   "cell_type": "markdown",
   "metadata": {},
   "source": [
    " "
   ]
  },
  {
   "cell_type": "markdown",
   "metadata": {},
   "source": [
    " "
   ]
  },
  {
   "cell_type": "markdown",
   "metadata": {},
   "source": [
    "# 코사인 유사도"
   ]
  },
  {
   "cell_type": "code",
   "execution_count": 47,
   "metadata": {
    "scrolled": false
   },
   "outputs": [
    {
     "name": "stderr",
     "output_type": "stream",
     "text": [
      "C:\\ProgramData\\Anaconda3\\lib\\site-packages\\ipykernel_launcher.py:2: RuntimeWarning: invalid value encountered in double_scalars\n",
      "  \n"
     ]
    }
   ],
   "source": [
    "distance_lst2 = []\n",
    "vector_lst = []\n",
    "X2 = (0, list(X))\n",
    "\n",
    "for idx in range(len(df2)) :\n",
    "    vector_lst.append((0, list(df2.iloc[idx][1:])))\n",
    "    \n",
    "for idx, idx2 in enumerate(vector_lst) :\n",
    "    d = dist2(X2, idx2)\n",
    "    distance_lst2.append((df2.iloc[idx][0],d))"
   ]
  },
  {
   "cell_type": "code",
   "execution_count": 48,
   "metadata": {},
   "outputs": [
    {
     "data": {
      "text/plain": [
       "('Buen Retiro Park', -0.017397542128092077)"
      ]
     },
     "execution_count": 48,
     "metadata": {},
     "output_type": "execute_result"
    }
   ],
   "source": [
    "distance_lst2[0]"
   ]
  },
  {
   "cell_type": "code",
   "execution_count": 49,
   "metadata": {},
   "outputs": [
    {
     "data": {
      "text/html": [
       "<div>\n",
       "<style>\n",
       "    .dataframe thead tr:only-child th {\n",
       "        text-align: right;\n",
       "    }\n",
       "\n",
       "    .dataframe thead th {\n",
       "        text-align: left;\n",
       "    }\n",
       "\n",
       "    .dataframe tbody tr th {\n",
       "        vertical-align: top;\n",
       "    }\n",
       "</style>\n",
       "<table border=\"1\" class=\"dataframe\">\n",
       "  <thead>\n",
       "    <tr style=\"text-align: right;\">\n",
       "      <th></th>\n",
       "      <th>0</th>\n",
       "      <th>1</th>\n",
       "    </tr>\n",
       "  </thead>\n",
       "  <tbody>\n",
       "    <tr>\n",
       "      <th>0</th>\n",
       "      <td>Buen Retiro Park</td>\n",
       "      <td>-0.017398</td>\n",
       "    </tr>\n",
       "    <tr>\n",
       "      <th>1</th>\n",
       "      <td>Royal Palace of Madrid</td>\n",
       "      <td>-0.153562</td>\n",
       "    </tr>\n",
       "    <tr>\n",
       "      <th>2</th>\n",
       "      <td>Plaza Mayor, Madrid</td>\n",
       "      <td>-0.050455</td>\n",
       "    </tr>\n",
       "    <tr>\n",
       "      <th>3</th>\n",
       "      <td>Museo Nacional Del Prado</td>\n",
       "      <td>0.030127</td>\n",
       "    </tr>\n",
       "    <tr>\n",
       "      <th>4</th>\n",
       "      <td>Puerta del Sol</td>\n",
       "      <td>-0.157923</td>\n",
       "    </tr>\n",
       "  </tbody>\n",
       "</table>\n",
       "</div>"
      ],
      "text/plain": [
       "                          0         1\n",
       "0          Buen Retiro Park -0.017398\n",
       "1    Royal Palace of Madrid -0.153562\n",
       "2       Plaza Mayor, Madrid -0.050455\n",
       "3  Museo Nacional Del Prado  0.030127\n",
       "4            Puerta del Sol -0.157923"
      ]
     },
     "execution_count": 49,
     "metadata": {},
     "output_type": "execute_result"
    }
   ],
   "source": [
    "d_df2 = pd.DataFrame.from_records(distance_lst2)\n",
    "d_df2.head()"
   ]
  },
  {
   "cell_type": "code",
   "execution_count": 50,
   "metadata": {
    "scrolled": true
   },
   "outputs": [
    {
     "name": "stdout",
     "output_type": "stream",
     "text": [
      "[('Palau de la M?sica Catalana', 0.24080074872325979), ('Sagrada Fam?lia', 0.1343948880444171), ('Montju?c', 0.12992696821388941), ('Gran V?a', 0.12766233244246719), ('Plaza de Espa?a', 0.12740539730353678), ('Cas?n del Buen Retiro', 0.10974278520153162), ('Madrid R?o', 0.078185004474828193), ('Parque Warner Madrid', 0.073899911936781373), ('Thyssen-Bornemisza Museum', 0.069128197375941489), ('La Rambla, Barcelona', 0.057468715693361767), ('Bernab?u Tour', 0.048971414068446392), ('Santiago Bernab?u Stadium', 0.048970389625654753), ('Park G?ell', 0.047032467714376927), ('Real Jard?n Bot?nico de Madrid', 0.04377341239221854), ('El Escorial', 0.04177057039857543), ('El Rastro', 0.035940096246125743), ('Museo Nacional Del Prado', 0.030127262317112834), ('Museum of Romanticism', 0.013601473590614616), ('Market of San Miguel', 0.010383823408088199), ('Temple of Debod', 0.0088412892838440459), ('Calle de Alcal?', 0.0079917079557629989), ('The Madrid Zoo Aquarium', 0.00091686628545088777), ('Buen Retiro Park', -0.017397542128092077), ('Teatro Real, Madrid', -0.021937029377167093), ('La Boqueria', -0.025899388843372576), ('Naval Museum of Madrid', -0.027131451876993069), ('Casa de Campo', -0.027422545714566843), ('Museo Nacional de Antropolog?a', -0.0297142713791766), ('CaixaForum Madrid', -0.035193173986477637), ('Parque de Atracciones de Madrid', -0.041566402128972592), ('Plaza de Oriente', -0.042220124704784305), ('Plaza de Cibeles', -0.047202698137446798), ('Plaza Mayor, Madrid', -0.050454688306804038), ('Museo Nacional de Ciencias Naturales', -0.055609810077101987), ('Camp Nou', -0.05796451417755575), ('Sorolla Museum', -0.089904264656990307), ('Puerta de Alcal?', -0.092362391365503352), ('Cuartel del Conde-Duque', -0.092365999452734007), ('Palacio de Cristal', -0.092366104270731081), ('Faunia', -0.092366224270087893)]\n"
     ]
    }
   ],
   "source": [
    "sorted_d2 = sorted(distance_lst2, key = lambda x : x[1], reverse = True)\n",
    "print(sorted_d2[:40])"
   ]
  },
  {
   "cell_type": "code",
   "execution_count": null,
   "metadata": {
    "collapsed": true
   },
   "outputs": [],
   "source": []
  },
  {
   "cell_type": "code",
   "execution_count": null,
   "metadata": {
    "collapsed": true
   },
   "outputs": [],
   "source": [
    "def service2() :\n",
    "    \n",
    "    result = []\n",
    "    \n",
    "    df = pd.read_csv(\"vector.csv\", encoding=\"cp949\")\n",
    "    df = df.drop(\"Unnamed: 0\", axis = 1)\n",
    "    df[\"constant\"] = 1\n",
    "    df[\"review\"] = 0 \n",
    "    \n",
    "    df.set_value(0, \"review\", 5)\n",
    "    df.set_value(1, \"review\", 2)\n",
    "    df.set_value(2, \"review\", 4)\n",
    "    df.set_value(3, \"review\", 1)\n",
    "    df.set_value(4, \"review\", 5)\n",
    "    \n",
    "    df_test = df[df.review > 0]\n",
    "    \n",
    "    feature = list(map(lambda x: str(x), list(range(1,101)))) + [\"constant\"]\n",
    "    target = \"review\"\n",
    "    \n",
    "    model = LinearRegression()\n",
    "    model.fit(df_test[feature], df_test[target])\n",
    "    \n",
    "    coef =list(model.coef_)\n",
    "    coef, beta = coef[:-1], coef[-1]\n",
    "    \n",
    "    A = np.asarray(coef)\n",
    "    AT = A.reshape(len(A), 1)\n",
    "    A = A.reshape(1, len(A))\n",
    "    ATA = np.matmul(AT, A)\n",
    "    \n",
    "    X = np.matmul(np.linalg.inv(ATA+( 0.00000000001* np.random.rand(100, 100))), (5-beta) * AT) * 0.01\n",
    "    X = list(X.reshape(1, 100)[0])\n",
    "    \n",
    "    col = list(map(lambda x: str(x), list(range(0,101))))\n",
    "    df2 = df[col]\n",
    "    \n",
    "    distance_lst1 = []\n",
    "\n",
    "    for idx in range(len(df2.values)) :\n",
    "        XX =list(df2.iloc[idx][1:])\n",
    "        d = dist(list(X), list(XX))\n",
    "        distance_lst1.append((idx, df2.iloc[idx][0],d))\n",
    "    \n",
    "    d_df1 = pd.DataFrame.from_records(distance_lst1)\n",
    "    sorted_d1 = sorted(distance_lst1, key = lambda x : x[2])\n",
    "    \n",
    "    distance_lst2 = []\n",
    "    vector_lst = []\n",
    "    X2 = (0, list(X))\n",
    "\n",
    "    for idx in range(len(df2)) :\n",
    "        vector_lst.append((0, list(df2.iloc[idx][1:])))\n",
    "\n",
    "    for idx, idx2 in enumerate(vector_lst) :\n",
    "        d = dist2(X2, idx2)\n",
    "        distance_lst2.append((idx, df2.iloc[idx][0],d))\n",
    "        \n",
    "    sorted_d2 = sorted(distance_lst2, key = lambda x : x[2], reverse = True)\n",
    "    \n",
    "    result.extend(sorted_d1[:2])\n",
    "    result.extend(sorted_d2[2:3])\n",
    "    \n",
    "    return result"
   ]
  },
  {
   "cell_type": "code",
   "execution_count": null,
   "metadata": {
    "collapsed": true
   },
   "outputs": [],
   "source": []
  },
  {
   "cell_type": "code",
   "execution_count": null,
   "metadata": {
    "collapsed": true
   },
   "outputs": [],
   "source": []
  },
  {
   "cell_type": "code",
   "execution_count": null,
   "metadata": {
    "collapsed": true
   },
   "outputs": [],
   "source": []
  },
  {
   "cell_type": "code",
   "execution_count": null,
   "metadata": {
    "collapsed": true
   },
   "outputs": [],
   "source": []
  },
  {
   "cell_type": "code",
   "execution_count": null,
   "metadata": {
    "collapsed": true
   },
   "outputs": [],
   "source": []
  },
  {
   "cell_type": "code",
   "execution_count": null,
   "metadata": {
    "collapsed": true
   },
   "outputs": [],
   "source": []
  },
  {
   "cell_type": "code",
   "execution_count": null,
   "metadata": {
    "collapsed": true
   },
   "outputs": [],
   "source": []
  },
  {
   "cell_type": "code",
   "execution_count": null,
   "metadata": {
    "collapsed": true
   },
   "outputs": [],
   "source": []
  },
  {
   "cell_type": "code",
   "execution_count": null,
   "metadata": {
    "collapsed": true
   },
   "outputs": [],
   "source": []
  },
  {
   "cell_type": "code",
   "execution_count": null,
   "metadata": {
    "collapsed": true
   },
   "outputs": [],
   "source": []
  },
  {
   "cell_type": "code",
   "execution_count": null,
   "metadata": {
    "collapsed": true
   },
   "outputs": [],
   "source": []
  },
  {
   "cell_type": "code",
   "execution_count": null,
   "metadata": {
    "collapsed": true
   },
   "outputs": [],
   "source": []
  },
  {
   "cell_type": "code",
   "execution_count": null,
   "metadata": {
    "collapsed": true
   },
   "outputs": [],
   "source": []
  },
  {
   "cell_type": "code",
   "execution_count": null,
   "metadata": {
    "collapsed": true
   },
   "outputs": [],
   "source": []
  },
  {
   "cell_type": "code",
   "execution_count": null,
   "metadata": {
    "collapsed": true
   },
   "outputs": [],
   "source": []
  },
  {
   "cell_type": "code",
   "execution_count": null,
   "metadata": {
    "collapsed": true
   },
   "outputs": [],
   "source": []
  },
  {
   "cell_type": "code",
   "execution_count": null,
   "metadata": {
    "collapsed": true
   },
   "outputs": [],
   "source": []
  },
  {
   "cell_type": "code",
   "execution_count": null,
   "metadata": {
    "collapsed": true
   },
   "outputs": [],
   "source": []
  },
  {
   "cell_type": "code",
   "execution_count": null,
   "metadata": {
    "collapsed": true
   },
   "outputs": [],
   "source": []
  },
  {
   "cell_type": "code",
   "execution_count": null,
   "metadata": {
    "collapsed": true
   },
   "outputs": [],
   "source": []
  },
  {
   "cell_type": "code",
   "execution_count": null,
   "metadata": {
    "collapsed": true
   },
   "outputs": [],
   "source": []
  },
  {
   "cell_type": "code",
   "execution_count": null,
   "metadata": {
    "collapsed": true
   },
   "outputs": [],
   "source": []
  },
  {
   "cell_type": "code",
   "execution_count": null,
   "metadata": {
    "collapsed": true
   },
   "outputs": [],
   "source": []
  },
  {
   "cell_type": "code",
   "execution_count": null,
   "metadata": {
    "collapsed": true
   },
   "outputs": [],
   "source": []
  }
 ],
 "metadata": {
  "kernelspec": {
   "display_name": "Python 3",
   "language": "python",
   "name": "python3"
  },
  "language_info": {
   "codemirror_mode": {
    "name": "ipython",
    "version": 3
   },
   "file_extension": ".py",
   "mimetype": "text/x-python",
   "name": "python",
   "nbconvert_exporter": "python",
   "pygments_lexer": "ipython3",
   "version": "3.7.1"
  }
 },
 "nbformat": 4,
 "nbformat_minor": 2
}
