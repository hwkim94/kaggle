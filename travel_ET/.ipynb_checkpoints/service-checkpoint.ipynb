{
 "cells": [
  {
   "cell_type": "markdown",
   "metadata": {},
   "source": [
    "# 서비스"
   ]
  },
  {
   "cell_type": "code",
   "execution_count": 2,
   "metadata": {
    "collapsed": true
   },
   "outputs": [],
   "source": [
    "import pandas as pd\n",
    "import numpy as np\n",
    "import random\n",
    "import math\n",
    "from sklearn.linear_model import LinearRegression"
   ]
  },
  {
   "cell_type": "code",
   "execution_count": 3,
   "metadata": {
    "collapsed": true
   },
   "outputs": [],
   "source": [
    "def dist (A,B):\n",
    "    return  np.linalg.norm(np.asarray(A)-np.asarray(B))"
   ]
  },
  {
   "cell_type": "code",
   "execution_count": 4,
   "metadata": {
    "collapsed": true
   },
   "outputs": [],
   "source": [
    "def dist2 (A,B):\n",
    "    return np.dot(A[1], B[1]) / (math.sqrt(np.dot(A[1],A[1])) * math.sqrt(np.dot(B[1],B[1]))) "
   ]
  },
  {
   "cell_type": "markdown",
   "metadata": {},
   "source": [
    " "
   ]
  },
  {
   "cell_type": "markdown",
   "metadata": {},
   "source": [
    "# 유클리디안 거리"
   ]
  },
  {
   "cell_type": "code",
   "execution_count": 44,
   "metadata": {
    "collapsed": true
   },
   "outputs": [],
   "source": [
    "distance_lst1 = []\n",
    "\n",
    "for idx in range(len(df2.values)) :\n",
    "    XX =list(df2.iloc[idx][1:])\n",
    "    d = dist(list(X), list(XX))\n",
    "    distance_lst1.append((df2.iloc[idx][0],d))\n",
    "    \n"
   ]
  },
  {
   "cell_type": "code",
   "execution_count": 45,
   "metadata": {
    "scrolled": true
   },
   "outputs": [
    {
     "data": {
      "text/html": [
       "<div>\n",
       "<style>\n",
       "    .dataframe thead tr:only-child th {\n",
       "        text-align: right;\n",
       "    }\n",
       "\n",
       "    .dataframe thead th {\n",
       "        text-align: left;\n",
       "    }\n",
       "\n",
       "    .dataframe tbody tr th {\n",
       "        vertical-align: top;\n",
       "    }\n",
       "</style>\n",
       "<table border=\"1\" class=\"dataframe\">\n",
       "  <thead>\n",
       "    <tr style=\"text-align: right;\">\n",
       "      <th></th>\n",
       "      <th>0</th>\n",
       "      <th>1</th>\n",
       "    </tr>\n",
       "  </thead>\n",
       "  <tbody>\n",
       "    <tr>\n",
       "      <th>0</th>\n",
       "      <td>Buen Retiro Park</td>\n",
       "      <td>0.190903</td>\n",
       "    </tr>\n",
       "    <tr>\n",
       "      <th>1</th>\n",
       "      <td>Royal Palace of Madrid</td>\n",
       "      <td>0.300661</td>\n",
       "    </tr>\n",
       "    <tr>\n",
       "      <th>2</th>\n",
       "      <td>Plaza Mayor, Madrid</td>\n",
       "      <td>0.205523</td>\n",
       "    </tr>\n",
       "    <tr>\n",
       "      <th>3</th>\n",
       "      <td>Museo Nacional Del Prado</td>\n",
       "      <td>810.835050</td>\n",
       "    </tr>\n",
       "    <tr>\n",
       "      <th>4</th>\n",
       "      <td>Puerta del Sol</td>\n",
       "      <td>0.223149</td>\n",
       "    </tr>\n",
       "  </tbody>\n",
       "</table>\n",
       "</div>"
      ],
      "text/plain": [
       "                          0           1\n",
       "0          Buen Retiro Park    0.190903\n",
       "1    Royal Palace of Madrid    0.300661\n",
       "2       Plaza Mayor, Madrid    0.205523\n",
       "3  Museo Nacional Del Prado  810.835050\n",
       "4            Puerta del Sol    0.223149"
      ]
     },
     "execution_count": 45,
     "metadata": {},
     "output_type": "execute_result"
    }
   ],
   "source": [
    "d_df1 = pd.DataFrame.from_records(distance_lst1)\n",
    "d_df1.head()"
   ]
  },
  {
   "cell_type": "code",
   "execution_count": 46,
   "metadata": {
    "scrolled": true
   },
   "outputs": [
    {
     "name": "stdout",
     "output_type": "stream",
     "text": [
      "[('Quinta Nova da Assun??o', 0.043093043846505322), ('Williams &amp; Humbert', 0.043146318235102926), ('Roman ruins of Troy - Portugal', 0.043148087827124454), ('Marques de Pombal Palace', 0.043215000519440258), ('Over Time Escape Room Pamplona', 0.043242211845150917), ('Leaning Tower of Zaragoza', 0.043250484687856625), ('Thyssen-Bornemisza Museum', 0.043369367158399501), ('Manuel de Falla House Museum', 0.043385711976788172), ('Corral del Carb?n', 0.043385711976788172), ('Reproductions Museum Bilbao', 0.043385711976788172), ('Playa de la Misericordia', 0.043385711976788172), ('Mosque of C?rdoba', 0.043385711976788172), ('Pueblo Espa?ol de Palma de Mallorca', 0.043385711976788172), ('Palacio de Monterrey', 0.043385711976788172), ('Casa de Santa Teresa de Jes?s', 0.043385711976788172), ('W?rzburg Park', 0.043385711976788172), ('San Mart?n Centro de Cultura Contempor?nea', 0.043385711976788172), ('Faro de la plata', 0.043385711976788172), ('Antigua fuente de Rua', 0.043385711976788172), ('Abbey of Santa Mar?a la Real de Las Huelgas', 0.043385711976788172), ('Paseo de la Audiencia', 0.043385711976788172), ('International Bagpipe Museum', 0.043385711976788172), ('Cerro de Santa Catalina', 0.043385711976788172), ('EnigmaPark', 0.043385711976788172), ('No?in Aqueduct', 0.043385711976788172), ('Parque de los sentidos', 0.043385711976788172), ('Statue of the Capitoline Wolf', 0.043385711976788172), ('Real Monasterio de Santo Tom?s', 0.043385711976788172), ('Casa de las Ciencias (La Coru?a)', 0.043385711976788172), ('Plaza del General Azc?rraga', 0.043385711976788172), ('Edificio De Las Mariposas', 0.043385711976788172), ('Cerro San Cristobal', 0.043385711976788172), ('Playa de Las Teresitas', 0.043385711976788172), ('Playa de las Teresitas', 0.043385711976788172), ('Museum of Popular Arts &amp; Customs', 0.043385711976788172), ('La Fuente De Los Ni?os', 0.043385711976788172), ('Roman walls of Lugo', 0.043385711976788172), ('Rocio Jurado monument', 0.043385711976788172), ('Falperra Church', 0.043385711976788172), ('Garden Central Avenue', 0.043385711976788172)]\n"
     ]
    }
   ],
   "source": [
    "sorted_d1 = sorted(distance_lst1, key = lambda x : x[1])\n",
    "print(sorted_d1[:40])"
   ]
  },
  {
   "cell_type": "markdown",
   "metadata": {},
   "source": [
    " "
   ]
  },
  {
   "cell_type": "markdown",
   "metadata": {},
   "source": [
    " "
   ]
  },
  {
   "cell_type": "markdown",
   "metadata": {},
   "source": [
    "# 코사인 유사도"
   ]
  },
  {
   "cell_type": "code",
   "execution_count": 47,
   "metadata": {
    "scrolled": false
   },
   "outputs": [
    {
     "name": "stderr",
     "output_type": "stream",
     "text": [
      "C:\\ProgramData\\Anaconda3\\lib\\site-packages\\ipykernel_launcher.py:2: RuntimeWarning: invalid value encountered in double_scalars\n",
      "  \n"
     ]
    }
   ],
   "source": [
    "distance_lst2 = []\n",
    "vector_lst = []\n",
    "X2 = (0, list(X))\n",
    "\n",
    "for idx in range(len(df2)) :\n",
    "    vector_lst.append((0, list(df2.iloc[idx][1:])))\n",
    "    \n",
    "for idx, idx2 in enumerate(vector_lst) :\n",
    "    d = dist2(X2, idx2)\n",
    "    distance_lst2.append((df2.iloc[idx][0],d))"
   ]
  },
  {
   "cell_type": "code",
   "execution_count": 48,
   "metadata": {},
   "outputs": [
    {
     "data": {
      "text/plain": [
       "('Buen Retiro Park', -0.017397542128092077)"
      ]
     },
     "execution_count": 48,
     "metadata": {},
     "output_type": "execute_result"
    }
   ],
   "source": [
    "distance_lst2[0]"
   ]
  },
  {
   "cell_type": "code",
   "execution_count": 49,
   "metadata": {},
   "outputs": [
    {
     "data": {
      "text/html": [
       "<div>\n",
       "<style>\n",
       "    .dataframe thead tr:only-child th {\n",
       "        text-align: right;\n",
       "    }\n",
       "\n",
       "    .dataframe thead th {\n",
       "        text-align: left;\n",
       "    }\n",
       "\n",
       "    .dataframe tbody tr th {\n",
       "        vertical-align: top;\n",
       "    }\n",
       "</style>\n",
       "<table border=\"1\" class=\"dataframe\">\n",
       "  <thead>\n",
       "    <tr style=\"text-align: right;\">\n",
       "      <th></th>\n",
       "      <th>0</th>\n",
       "      <th>1</th>\n",
       "    </tr>\n",
       "  </thead>\n",
       "  <tbody>\n",
       "    <tr>\n",
       "      <th>0</th>\n",
       "      <td>Buen Retiro Park</td>\n",
       "      <td>-0.017398</td>\n",
       "    </tr>\n",
       "    <tr>\n",
       "      <th>1</th>\n",
       "      <td>Royal Palace of Madrid</td>\n",
       "      <td>-0.153562</td>\n",
       "    </tr>\n",
       "    <tr>\n",
       "      <th>2</th>\n",
       "      <td>Plaza Mayor, Madrid</td>\n",
       "      <td>-0.050455</td>\n",
       "    </tr>\n",
       "    <tr>\n",
       "      <th>3</th>\n",
       "      <td>Museo Nacional Del Prado</td>\n",
       "      <td>0.030127</td>\n",
       "    </tr>\n",
       "    <tr>\n",
       "      <th>4</th>\n",
       "      <td>Puerta del Sol</td>\n",
       "      <td>-0.157923</td>\n",
       "    </tr>\n",
       "  </tbody>\n",
       "</table>\n",
       "</div>"
      ],
      "text/plain": [
       "                          0         1\n",
       "0          Buen Retiro Park -0.017398\n",
       "1    Royal Palace of Madrid -0.153562\n",
       "2       Plaza Mayor, Madrid -0.050455\n",
       "3  Museo Nacional Del Prado  0.030127\n",
       "4            Puerta del Sol -0.157923"
      ]
     },
     "execution_count": 49,
     "metadata": {},
     "output_type": "execute_result"
    }
   ],
   "source": [
    "d_df2 = pd.DataFrame.from_records(distance_lst2)\n",
    "d_df2.head()"
   ]
  },
  {
   "cell_type": "code",
   "execution_count": 50,
   "metadata": {
    "scrolled": true
   },
   "outputs": [
    {
     "name": "stdout",
     "output_type": "stream",
     "text": [
      "[('Palau de la M?sica Catalana', 0.24080074872325979), ('Sagrada Fam?lia', 0.1343948880444171), ('Montju?c', 0.12992696821388941), ('Gran V?a', 0.12766233244246719), ('Plaza de Espa?a', 0.12740539730353678), ('Cas?n del Buen Retiro', 0.10974278520153162), ('Madrid R?o', 0.078185004474828193), ('Parque Warner Madrid', 0.073899911936781373), ('Thyssen-Bornemisza Museum', 0.069128197375941489), ('La Rambla, Barcelona', 0.057468715693361767), ('Bernab?u Tour', 0.048971414068446392), ('Santiago Bernab?u Stadium', 0.048970389625654753), ('Park G?ell', 0.047032467714376927), ('Real Jard?n Bot?nico de Madrid', 0.04377341239221854), ('El Escorial', 0.04177057039857543), ('El Rastro', 0.035940096246125743), ('Museo Nacional Del Prado', 0.030127262317112834), ('Museum of Romanticism', 0.013601473590614616), ('Market of San Miguel', 0.010383823408088199), ('Temple of Debod', 0.0088412892838440459), ('Calle de Alcal?', 0.0079917079557629989), ('The Madrid Zoo Aquarium', 0.00091686628545088777), ('Buen Retiro Park', -0.017397542128092077), ('Teatro Real, Madrid', -0.021937029377167093), ('La Boqueria', -0.025899388843372576), ('Naval Museum of Madrid', -0.027131451876993069), ('Casa de Campo', -0.027422545714566843), ('Museo Nacional de Antropolog?a', -0.0297142713791766), ('CaixaForum Madrid', -0.035193173986477637), ('Parque de Atracciones de Madrid', -0.041566402128972592), ('Plaza de Oriente', -0.042220124704784305), ('Plaza de Cibeles', -0.047202698137446798), ('Plaza Mayor, Madrid', -0.050454688306804038), ('Museo Nacional de Ciencias Naturales', -0.055609810077101987), ('Camp Nou', -0.05796451417755575), ('Sorolla Museum', -0.089904264656990307), ('Puerta de Alcal?', -0.092362391365503352), ('Cuartel del Conde-Duque', -0.092365999452734007), ('Palacio de Cristal', -0.092366104270731081), ('Faunia', -0.092366224270087893)]\n"
     ]
    }
   ],
   "source": [
    "sorted_d2 = sorted(distance_lst2, key = lambda x : x[1], reverse = True)\n",
    "print(sorted_d2[:40])"
   ]
  },
  {
   "cell_type": "markdown",
   "metadata": {
    "collapsed": true
   },
   "source": [
    "# 서비스 모듈"
   ]
  },
  {
   "cell_type": "code",
   "execution_count": null,
   "metadata": {
    "collapsed": true
   },
   "outputs": [],
   "source": [
    "def service() :\n",
    "    \n",
    "    result = []\n",
    "    \n",
    "    df = pd.read_csv(\"vector.csv\", encoding=\"cp949\")\n",
    "    df = df.drop(\"Unnamed: 0\", axis = 1)\n",
    "    df[\"constant\"] = 1\n",
    "    df[\"review\"] = 0 \n",
    "    \n",
    "    df.set_value(0, \"review\", 5)\n",
    "    df.set_value(1, \"review\", 2)\n",
    "    df.set_value(2, \"review\", 4)\n",
    "    df.set_value(3, \"review\", 1)\n",
    "    df.set_value(4, \"review\", 5)\n",
    "    \n",
    "    df_test = df[df.review > 0]\n",
    "    \n",
    "    feature = list(map(lambda x: str(x), list(range(1,101)))) + [\"constant\"]\n",
    "    target = \"review\"\n",
    "    \n",
    "    model = LinearRegression()\n",
    "    model.fit(df_test[feature], df_test[target])\n",
    "    \n",
    "    coef =list(model.coef_)\n",
    "    coef, beta = coef[:-1], coef[-1]\n",
    "    \n",
    "    A = np.asarray(coef)\n",
    "    AT = A.reshape(len(A), 1)\n",
    "    A = A.reshape(1, len(A))\n",
    "    ATA = np.matmul(AT, A)\n",
    "    \n",
    "    X = np.matmul(np.linalg.inv(ATA+( 0.00000000001* np.random.rand(100, 100))), (5-beta) * AT) * 0.01\n",
    "    X = list(X.reshape(1, 100)[0])\n",
    "    \n",
    "    col = list(map(lambda x: str(x), list(range(0,101))))\n",
    "    df2 = df[col]\n",
    "    \n",
    "    distance_lst1 = []\n",
    "\n",
    "    for idx in range(len(df2.values)) :\n",
    "        XX =list(df2.iloc[idx][1:])\n",
    "        d = dist(list(X), list(XX))\n",
    "        distance_lst1.append((idx, df2.iloc[idx][0],d))\n",
    "    \n",
    "    d_df1 = pd.DataFrame.from_records(distance_lst1)\n",
    "    sorted_d1 = sorted(distance_lst1, key = lambda x : x[2])\n",
    "    \n",
    "    distance_lst2 = []\n",
    "    vector_lst = []\n",
    "    X2 = (0, list(X))\n",
    "\n",
    "    for idx in range(len(df2)) :\n",
    "        vector_lst.append((0, list(df2.iloc[idx][1:])))\n",
    "\n",
    "    for idx, idx2 in enumerate(vector_lst) :\n",
    "        d = dist2(X2, idx2)\n",
    "        distance_lst2.append((idx, df2.iloc[idx][0],d))\n",
    "        \n",
    "    sorted_d2 = sorted(distance_lst2, key = lambda x : x[2], reverse = True)\n",
    "    \n",
    "    result.extend(sorted_d1[:2])\n",
    "    result.extend(sorted_d2[2:3])\n",
    "    \n",
    "    return result"
   ]
  }
 ],
 "metadata": {
  "kernelspec": {
   "display_name": "Python 3",
   "language": "python",
   "name": "python3"
  },
  "language_info": {
   "codemirror_mode": {
    "name": "ipython",
    "version": 3
   },
   "file_extension": ".py",
   "mimetype": "text/x-python",
   "name": "python",
   "nbconvert_exporter": "python",
   "pygments_lexer": "ipython3",
   "version": "3.7.1"
  }
 },
 "nbformat": 4,
 "nbformat_minor": 2
}
