{
 "cells": [
  {
   "cell_type": "code",
   "execution_count": null,
   "metadata": {},
   "outputs": [],
   "source": [
    "#모듈\n",
    "import math\n",
    "import pandas as pd\n",
    "import numpy as np\n",
    "\n",
    "try:\n",
    "    import cufflinks as cf\n",
    "except:\n",
    "    !pip install cufflinks\n",
    "    import cufflinks as cf\n",
    "\n",
    "cf.go_offline()\n",
    "\n",
    "from sklearn.ensemble import RandomForestRegressor,AdaBoostRegressor, GradientBoostingRegressor, ExtraTreesRegressor,BaggingRegressor\n",
    "from sklearn.neural_network import MLPRegressor\n",
    "\n",
    "import matplotlib.pyplot as plt\n",
    "%matplotlib inline\n",
    "%config InlineBackend.figure_format = 'retina'"
   ]
  },
  {
   "cell_type": "code",
   "execution_count": null,
   "metadata": {},
   "outputs": [],
   "source": [
    "# 데이터 다루기\n",
    "pd.set_option(\"Display.max_columns\",200)\n",
    "import re\n",
    "import time\n",
    "\n",
    "# 데이터 시각화\n",
    "import seaborn as sns\n",
    "\n",
    "# 사용할 머신러닝 모델들 - RandomForest, AdaBoost, GradientBoost, ExtraTrees\n",
    "import sklearn\n",
    "from sklearn.metrics import log_loss\n",
    "from sklearn.svm import SVC"
   ]
  },
  {
   "cell_type": "code",
   "execution_count": null,
   "metadata": {},
   "outputs": [],
   "source": [
    "#명목형 변수 더미화\n",
    "def dummify_category_cols(df,cols):\n",
    "    dummies = []\n",
    "    new_df = df.copy()\n",
    "\n",
    "    for idx in range(len(cols)):\n",
    "        new_df = new_df.join(pd.get_dummies(total[cols[idx]], prefix = cols[idx]))\n",
    "        new_df = new_df.drop(cols[idx], axis =1)\n",
    "    return new_df"
   ]
  },
  {
   "cell_type": "code",
   "execution_count": null,
   "metadata": {},
   "outputs": [],
   "source": [
    "#연속형 변수 범주화\n",
    "def dummify_number_cols(df, cols, nums) :\n",
    "    new_df = df.copy() \n",
    "    \n",
    "    for col, num in zip(cols, nums) :\n",
    "        new_df[col] =new_df[col].map(lambda x: int(x)//num * num)\n",
    "    return new_df\n"
   ]
  },
  {
   "cell_type": "code",
   "execution_count": null,
   "metadata": {},
   "outputs": [],
   "source": [
    "#명목형 변수의 연속형 변환 - 변수의 차원을 낮추기 위하여\n",
    "def num_category(df, col, chg) :\n",
    "    new_df = df.copy()\n",
    "    set = {}\n",
    "    \n",
    "    for idx in range(len(chg)) :\n",
    "        set[chg[idx]] = idx\n",
    "        \n",
    "    new_df[col] = new_df[col].map(set)\n",
    "    \n",
    "    return new_df        "
   ]
  },
  {
   "cell_type": "code",
   "execution_count": null,
   "metadata": {},
   "outputs": [],
   "source": [
    "#숫자형 변수 일정 이상은 묶어버리기\n",
    "def number_group_cols(df, cols, nums) :\n",
    "    new_df = df.copy() \n",
    "    \n",
    "    for col, num in zip(cols, nums) :\n",
    "        new_df[col] =new_df[col].map(lambda x: num if x> num else x )\n",
    "    return new_df\n"
   ]
  },
  {
   "cell_type": "code",
   "execution_count": null,
   "metadata": {},
   "outputs": [],
   "source": [
    "#RMS 구하기\n",
    "def RMSE(y_true,y_pred):\n",
    "    \n",
    "    squaredErrors = (y_pred - y_true)**2\n",
    "    MSE = squaredErrors.mean()\n",
    "    \n",
    "    return math.sqrt(MSE)"
   ]
  },
  {
   "cell_type": "code",
   "execution_count": null,
   "metadata": {},
   "outputs": [],
   "source": [
    "#본격적으로 시작"
   ]
  },
  {
   "cell_type": "code",
   "execution_count": null,
   "metadata": {},
   "outputs": [],
   "source": [
    "training = pd.read_csv(\"house_price.csv\")\n",
    "test = pd.read_csv(\"test.csv\")\n"
   ]
  },
  {
   "cell_type": "code",
   "execution_count": null,
   "metadata": {},
   "outputs": [],
   "source": [
    "#training = training[training.GrLivArea <= 5600]\n",
    "#training = training[training[\"1stFlrSF\"] <= 4600]\n",
    "#training = training[training.TotalBsmtSF < 6000]\n",
    "#training = training[training.MasVnrArea <= 1600]"
   ]
  },
  {
   "cell_type": "code",
   "execution_count": null,
   "metadata": {},
   "outputs": [],
   "source": [
    "total = pd.concat([training, test]).reset_index()\n",
    "del total[\"index\"]"
   ]
  },
  {
   "cell_type": "code",
   "execution_count": null,
   "metadata": {
    "scrolled": true
   },
   "outputs": [],
   "source": [
    "total.head(2)"
   ]
  },
  {
   "cell_type": "code",
   "execution_count": null,
   "metadata": {
    "scrolled": true
   },
   "outputs": [],
   "source": [
    "total.columns"
   ]
  },
  {
   "cell_type": "code",
   "execution_count": null,
   "metadata": {},
   "outputs": [],
   "source": [
    "#선택된 변수\n",
    "category_selected = [\"MSSubClass\", \"MSZoning\", \"Street\" ,\"LandContour\", \"LotConfig\", \n",
    "            \"Neighborhood\", \"BldgType\", \"HouseStyle\", \"OverallQual\", \n",
    "            \"MasVnrType\", \"ExterQual\", \"ExterCond\",\n",
    "            \"Foundation\",\"BsmtQual\", \"BsmtCond\", \"BsmtExposure\", \"BsmtFinType1\", \"HeatingQC\", \"CentralAir\",\n",
    "            \"Electrical\", \"BsmtFullBath\", \"FullBath\", \"HalfBath\", \"KitchenQual\",\n",
    "            \"TotRmsAbvGrd\", \"Functional\", \"Fireplaces\", \"FireplaceQu\", \"GarageType\",\n",
    "            \"GarageCars\", \"PavedDrive\", \"SaleCondition\", \"GarageFinish\"]\n",
    "\n",
    "extra_selected = [ \"GarageCars\", \"Electrical\" ,\"OverallQual\",\"OverallCond\",\"ExterQual\", \"ExterCond\",  \"BsmtQual\",\n",
    "                  \"BsmtCond\", \"BsmtExposure\", \"BsmtFinType1\", \"HeatingQC\",\"KitchenQual\",\"FireplaceQu\", \"Functional\"]\n",
    "\n",
    "number_selected = [\"GarageYrBlt\",\"YearBuilt\", \"YearRemodAdd\", \"BsmtFinSF1\", \"BsmtUnfSF\", \"TotalBsmtSF\", \n",
    "                   \"1stFlrSF\", \"2ndFlrSF\", \"GrLivArea\", 'GarageArea', \"LotArea\", \"MasVnrArea\", \"WoodDeckSF\", \"OpenPorchSF\"]\n",
    "\n",
    "category_selected = [x for x in category_selected if x not in extra_selected]\n",
    "\n",
    "total_selected = category_selected + number_selected + extra_selected\n",
    "\n",
    "selected_with_SalePrice = total_selected +[\"SalePrice\"]"
   ]
  },
  {
   "cell_type": "code",
   "execution_count": null,
   "metadata": {},
   "outputs": [],
   "source": [
    "#선택된 변수\n",
    "category_selected = ['1stFlrSF', '2ndFlrSF', '3SsnPorch', 'Alley', 'BedroomAbvGr',\n",
    "       'BldgType', 'BsmtCond', 'BsmtExposure', 'BsmtFinSF1', 'BsmtFinSF2',\n",
    "       'BsmtFinType1', 'BsmtFinType2', 'BsmtFullBath', 'BsmtHalfBath',\n",
    "       'BsmtQual', 'BsmtUnfSF', 'CentralAir', 'Condition1', 'Condition2',\n",
    "       'Electrical', 'EnclosedPorch', 'ExterCond', 'ExterQual', 'Exterior1st',\n",
    "       'Exterior2nd', 'Fence', 'FireplaceQu', 'Fireplaces', 'Foundation',\n",
    "       'FullBath', 'Functional', 'GarageArea', 'GarageCars', 'GarageCond',\n",
    "       'GarageFinish', 'GarageQual', 'GarageType', 'GarageYrBlt', 'GrLivArea',\n",
    "       'HalfBath', 'Heating', 'HeatingQC', 'HouseStyle', 'Id', 'KitchenAbvGr',\n",
    "       'KitchenQual', 'LandContour', 'LandSlope', 'LotArea', 'LotConfig',\n",
    "       'LotFrontage', 'LotShape', 'LowQualFinSF', 'MSSubClass', 'MSZoning',\n",
    "       'MasVnrArea', 'MasVnrType', 'MiscFeature', 'MiscVal', 'MoSold',\n",
    "       'Neighborhood', 'OpenPorchSF', 'OverallCond', 'OverallQual',\n",
    "       'PavedDrive', 'PoolArea', 'PoolQC', 'RoofMatl', 'RoofStyle',\n",
    "       'SaleCondition', 'SaleType', 'ScreenPorch', 'Street',\n",
    "       'TotRmsAbvGrd', 'TotalBsmtSF', 'Utilities', 'WoodDeckSF', 'YearBuilt',\n",
    "       'YearRemodAdd', 'YrSold']\n",
    "\n",
    "extra_selected = [ \"GarageCars\", \"Electrical\" ,\"OverallQual\",\"OverallCond\",\"ExterQual\", \"ExterCond\",  \"BsmtQual\",\n",
    "                  \"BsmtCond\", \"BsmtExposure\", \"BsmtFinType1\", \"HeatingQC\",\"KitchenQual\",\"FireplaceQu\", \"Functional\"]\n",
    "\n",
    "number_selected =['LotFrontage', 'LotArea', 'YearBuilt', 'YearRemodAdd', 'MasVnrArea', 'BsmtFinSF1', 'BsmtFinSF2', 'BsmtUnfSF', 'TotalBsmtSF', '1stFlrSF', '2ndFlrSF',\n",
    "       'LowQualFinSF', 'GrLivArea','GarageArea', 'WoodDeckSF', 'OpenPorchSF',\n",
    "       'EnclosedPorch', '3SsnPorch', 'ScreenPorch', 'PoolArea', 'MiscVal']\n",
    "category_selected = [x for x in category_selected if x not in number_selected]\n",
    "\n",
    "category_selected = [x for x in category_selected if x not in extra_selected]\n",
    "\n",
    "total_selected = category_selected + number_selected + extra_selected\n",
    "\n",
    "selected_with_SalePrice = total_selected +[\"SalePrice\"]"
   ]
  },
  {
   "cell_type": "code",
   "execution_count": null,
   "metadata": {
    "scrolled": false
   },
   "outputs": [],
   "source": [
    "new_total = total[selected_with_SalePrice].copy()\n",
    "new_total.head(2)"
   ]
  },
  {
   "cell_type": "code",
   "execution_count": null,
   "metadata": {},
   "outputs": [],
   "source": [
    "#임시 전처리"
   ]
  },
  {
   "cell_type": "code",
   "execution_count": null,
   "metadata": {},
   "outputs": [],
   "source": [
    "new_total.head()"
   ]
  },
  {
   "cell_type": "code",
   "execution_count": null,
   "metadata": {},
   "outputs": [],
   "source": []
  },
  {
   "cell_type": "code",
   "execution_count": null,
   "metadata": {},
   "outputs": [],
   "source": []
  },
  {
   "cell_type": "code",
   "execution_count": null,
   "metadata": {
    "scrolled": false
   },
   "outputs": [],
   "source": [
    "#전처리1 - 연속형데이터 중 null값이 있는 행 모두 버려주기\n",
    "new_total[number_selected].isnull().sum()"
   ]
  },
  {
   "cell_type": "code",
   "execution_count": null,
   "metadata": {},
   "outputs": [],
   "source": [
    "new_total[\"YearBuilt\"] = new_total[\"YearBuilt\"].fillna(new_total.YearBuilt.mean())"
   ]
  },
  {
   "cell_type": "code",
   "execution_count": null,
   "metadata": {},
   "outputs": [],
   "source": [
    "new_total[\"BsmtFinSF1\"] = new_total[\"BsmtFinSF1\"].fillna(new_total.BsmtFinSF1.mean())"
   ]
  },
  {
   "cell_type": "code",
   "execution_count": null,
   "metadata": {},
   "outputs": [],
   "source": [
    "new_total[\"BsmtUnfSF\"] = new_total[\"BsmtUnfSF\"].fillna(new_total.BsmtUnfSF.mean())"
   ]
  },
  {
   "cell_type": "code",
   "execution_count": null,
   "metadata": {},
   "outputs": [],
   "source": [
    "new_total[\"TotalBsmtSF\"] = new_total[\"TotalBsmtSF\"].fillna(new_total.TotalBsmtSF.mean())"
   ]
  },
  {
   "cell_type": "code",
   "execution_count": null,
   "metadata": {},
   "outputs": [],
   "source": [
    "new_total[\"GarageArea\"] = new_total[\"GarageArea\"].fillna(new_total.GarageArea.mean())"
   ]
  },
  {
   "cell_type": "code",
   "execution_count": null,
   "metadata": {},
   "outputs": [],
   "source": [
    "new_total[\"GarageYrBlt\"] = new_total[\"GarageYrBlt\"].fillna(new_total.GarageYrBlt.mean())"
   ]
  },
  {
   "cell_type": "code",
   "execution_count": null,
   "metadata": {},
   "outputs": [],
   "source": [
    "new_total[\"Electrical\"] = new_total[\"Electrical\"].fillna(\"SBrkr\")"
   ]
  },
  {
   "cell_type": "code",
   "execution_count": null,
   "metadata": {},
   "outputs": [],
   "source": [
    "new_total = new_total.fillna(\"404\")"
   ]
  },
  {
   "cell_type": "code",
   "execution_count": null,
   "metadata": {},
   "outputs": [],
   "source": [
    "new_total.isnull().sum()"
   ]
  },
  {
   "cell_type": "code",
   "execution_count": null,
   "metadata": {
    "scrolled": false
   },
   "outputs": [],
   "source": [
    "new_total.head()"
   ]
  },
  {
   "cell_type": "code",
   "execution_count": null,
   "metadata": {},
   "outputs": [],
   "source": [
    "#명목형 변수를 연속형으로 바꿔주는 것"
   ]
  },
  {
   "cell_type": "code",
   "execution_count": null,
   "metadata": {},
   "outputs": [],
   "source": [
    "new_total = num_category(new_total, \"ExterQual\", [\"Po\", \"Fa\", \"TA\", \"Gd\", \"Ex\"])"
   ]
  },
  {
   "cell_type": "code",
   "execution_count": null,
   "metadata": {},
   "outputs": [],
   "source": [
    "new_total = num_category(new_total, \"ExterCond\", [\"Po\", \"Fa\", \"TA\", \"Gd\", \"Ex\"])"
   ]
  },
  {
   "cell_type": "code",
   "execution_count": null,
   "metadata": {},
   "outputs": [],
   "source": [
    "new_total = num_category(new_total, \"BsmtQual\", [\"404\", \"Po\", \"Fa\", \"TA\", \"Gd\", \"Ex\"])"
   ]
  },
  {
   "cell_type": "code",
   "execution_count": null,
   "metadata": {},
   "outputs": [],
   "source": [
    "new_total = num_category(new_total, \"BsmtCond\", [\"404\", \"Po\", \"Fa\", \"TA\", \"Gd\", \"Ex\"])"
   ]
  },
  {
   "cell_type": "code",
   "execution_count": null,
   "metadata": {},
   "outputs": [],
   "source": [
    "new_total = num_category(new_total, \"BsmtExposure\", [\"404\", \"No\", \"Fa\", \"Mn\", \"Av\", \"Gd\"])"
   ]
  },
  {
   "cell_type": "code",
   "execution_count": null,
   "metadata": {},
   "outputs": [],
   "source": [
    "new_total = num_category(new_total, \"BsmtFinType1\", [\"404\", \"Unf\", \"LwQ\", \"Rec\", \"BLQ\", \"ALQ\", \"GLQ\"])"
   ]
  },
  {
   "cell_type": "code",
   "execution_count": null,
   "metadata": {},
   "outputs": [],
   "source": [
    "new_total = num_category(new_total, \"HeatingQC\", [\"404\", \"Po\", \"Fa\", \"TA\", \"Gd\", \"Ex\"])"
   ]
  },
  {
   "cell_type": "code",
   "execution_count": null,
   "metadata": {},
   "outputs": [],
   "source": [
    "new_total = num_category(new_total, \"KitchenQual\", [\"404\", \"Po\", \"Fa\", \"TA\", \"Gd\", \"Ex\"])"
   ]
  },
  {
   "cell_type": "code",
   "execution_count": null,
   "metadata": {},
   "outputs": [],
   "source": [
    "new_total = num_category(new_total, \"FireplaceQu\", [\"404\", \"Po\", \"Fa\", \"TA\", \"Gd\", \"Ex\"])"
   ]
  },
  {
   "cell_type": "code",
   "execution_count": null,
   "metadata": {},
   "outputs": [],
   "source": [
    "new_total = num_category(new_total, \"Electrical\", [\"Mix\", \"FuseP\", \"FuseF\", \"FuseA\", \"SBrkr\"])"
   ]
  },
  {
   "cell_type": "code",
   "execution_count": null,
   "metadata": {},
   "outputs": [],
   "source": [
    "new_total = num_category(new_total, \"Functional\", [\"404\", \"Sal\", \"Sev\", \"Maj2\", \"Maj1\", \"Mod\", \"Min2\", \"Min1\", \"Typ\"])\n",
    "new_total.Functional.unique()"
   ]
  },
  {
   "cell_type": "code",
   "execution_count": null,
   "metadata": {},
   "outputs": [],
   "source": [
    "#변수끼리 합쳐주는 것"
   ]
  },
  {
   "cell_type": "code",
   "execution_count": null,
   "metadata": {},
   "outputs": [],
   "source": [
    "#new_total[\"Functional\"] = total[\"Functional\"].map(lambda x : 1 if x==8 else 0)\n",
    "#new_total[\"LotConfig\"] = new_total.LotConfig.map(lambda x : 1 if x == \"CulDSac\" else 0)\n",
    "#new_total[\"FullBath\"] = new_total.FullBath.map(lambda x : 1 if x <=2 else x-1)\n",
    "#new_total[\"OverallCond\"] = new_total.OverallCond.map(lambda x : 1 if x <=4 else 2)\n",
    "#new_total[\"BldgType\"] = new_total.BldgType.map(lambda x : 1 if x ==\"1Fam\" else 2)\n",
    "#new_total = number_group_cols(new_total, [\"TotRmsAbvGrd\"], [13])\n",
    "#new_total = number_group_cols(new_total, [\"HalfBath\"], [1])\n",
    "#new_total = number_group_cols(new_total, [\"FullBath\"], [2])"
   ]
  },
  {
   "cell_type": "code",
   "execution_count": null,
   "metadata": {},
   "outputs": [],
   "source": []
  },
  {
   "cell_type": "code",
   "execution_count": null,
   "metadata": {},
   "outputs": [],
   "source": []
  },
  {
   "cell_type": "code",
   "execution_count": null,
   "metadata": {},
   "outputs": [],
   "source": [
    "#임시 전처리"
   ]
  },
  {
   "cell_type": "code",
   "execution_count": null,
   "metadata": {},
   "outputs": [],
   "source": [
    "new_total = new_total.assign(Is_Remod =  lambda x : x[\"YearBuilt\"] != x[\"YearRemodAdd\"])\n",
    "new_total[\"Is_Remod\"] = new_total.YearRemodAdd.map(lambda x : 1 if x == True else 0)\n",
    "new_total[\"after\"] = 2011 - new_total[\"YearRemodAdd\"]\n",
    "new_total = new_total.drop(\"YearRemodAdd\", axis = 1)"
   ]
  },
  {
   "cell_type": "code",
   "execution_count": null,
   "metadata": {},
   "outputs": [],
   "source": [
    "#new_total = new_total.assign(Is_2nd =  lambda x : x[\"2ndFlrSF\"] != 0)\n",
    "#new_total[\"Is_2nd\"] = new_total.Is_2nd.map(lambda x : 1 if x == True else 0)"
   ]
  },
  {
   "cell_type": "code",
   "execution_count": null,
   "metadata": {},
   "outputs": [],
   "source": [
    "#new_total = new_total.assign(Is_bsmt_unfinish = lambda x : x[\"BsmtFinType1\"] == 0)\n",
    "#new_total[\"Is_bsmt_unfinish\"] = new_total.Is_bsmt_unfinish.map(lambda x : 1 if x == True else 0)"
   ]
  },
  {
   "cell_type": "code",
   "execution_count": null,
   "metadata": {},
   "outputs": [],
   "source": [
    "#new_total = new_total.assign(Is_Fireplaces = lambda x : x[\"Fireplaces\"] != 0)\n",
    "#new_total[\"Is_Fireplaces\"] = new_total.Is_Fireplaces.map(lambda x : 1 if x == True else 0)"
   ]
  },
  {
   "cell_type": "code",
   "execution_count": null,
   "metadata": {},
   "outputs": [],
   "source": [
    "#new_total = new_total.assign(Is_GarageFinish = lambda x : x[\"GarageFinish\"] != \"Unf\")\n",
    "#new_total[\"Is_GarageFinish \"] = new_total.Is_GarageFinish .map(lambda x : 1 if x == True else 0)"
   ]
  },
  {
   "cell_type": "code",
   "execution_count": null,
   "metadata": {},
   "outputs": [],
   "source": [
    "new_total[\"total_qual\"] = (new_total['OverallQual'] + new_total[\"ExterQual\"]+new_total[\"BsmtQual\"]+ new_total[\"HeatingQC\"] + \n",
    "                           new_total[\"KitchenQual\"] + new_total[\"FireplaceQu\"])"
   ]
  },
  {
   "cell_type": "code",
   "execution_count": null,
   "metadata": {},
   "outputs": [],
   "source": [
    "new_total[\"total_point\"] = (new_total['OverallQual'] + new_total[\"ExterQual\"]+\n",
    "                            new_total[\"BsmtQual\"]+ new_total[\"Functional\"] + \n",
    "                            new_total[\"Electrical\"]+new_total[\"ExterCond\"] +\n",
    "                            new_total[\"BsmtCond\"] + new_total[\"OverallCond\"] +\n",
    "                            new_total[\"BsmtExposure\"] + new_total[\"HeatingQC\"] + new_total[\"KitchenQual\"] + new_total[\"FireplaceQu\"] +\n",
    "                            new_total[\"BsmtFinType1\"])"
   ]
  },
  {
   "cell_type": "code",
   "execution_count": null,
   "metadata": {},
   "outputs": [],
   "source": [
    "new_total[\"total_cond\"] = (new_total[\"ExterCond\"] +\n",
    "                            new_total[\"BsmtCond\"] + new_total[\"OverallCond\"] )"
   ]
  },
  {
   "cell_type": "code",
   "execution_count": null,
   "metadata": {},
   "outputs": [],
   "source": [
    "new_total[\"ratio_bsmt\"] = new_total[\"BsmtUnfSF\"] / new_total[\"TotalBsmtSF\"]\n",
    "new_total[\"ratio_bsmt\"] = new_total[\"ratio_bsmt\"].map(lambda x : x if x>=0 else 100000)"
   ]
  },
  {
   "cell_type": "code",
   "execution_count": null,
   "metadata": {},
   "outputs": [],
   "source": [
    "new_total[\"Total_Area\"] = new_total[\"GrLivArea\"] + new_total[\"LotArea\"] + new_total[\"GarageArea\"] + new_total[\"TotalBsmtSF\"]"
   ]
  },
  {
   "cell_type": "code",
   "execution_count": null,
   "metadata": {},
   "outputs": [],
   "source": [
    "new_total[\"GrLivArea\"] = new_total[\"GrLivArea\"].map(lambda x : math.log(x))"
   ]
  },
  {
   "cell_type": "code",
   "execution_count": null,
   "metadata": {},
   "outputs": [],
   "source": [
    "new_total[\"LotArea\"] = new_total[\"LotArea\"].map(lambda x : math.log(x))"
   ]
  },
  {
   "cell_type": "code",
   "execution_count": null,
   "metadata": {},
   "outputs": [],
   "source": [
    "new_total[\"GarageArea\"] = new_total[\"GarageArea\"].map(lambda x : math.log(x+1))"
   ]
  },
  {
   "cell_type": "code",
   "execution_count": null,
   "metadata": {},
   "outputs": [],
   "source": [
    "new_total[\"TotalBsmtSF\"] = new_total[\"TotalBsmtSF\"].map(lambda x : math.log(x+1))"
   ]
  },
  {
   "cell_type": "code",
   "execution_count": null,
   "metadata": {},
   "outputs": [],
   "source": [
    "new_total[\"Total_Area\"] = new_total[\"Total_Area\"].map(lambda x : math.log(x+1))"
   ]
  },
  {
   "cell_type": "code",
   "execution_count": null,
   "metadata": {},
   "outputs": [],
   "source": [
    "new_total[\"BsmtFinSF1\"] = new_total[\"BsmtFinSF1\"].map(lambda x : math.log(x+1))"
   ]
  },
  {
   "cell_type": "code",
   "execution_count": null,
   "metadata": {},
   "outputs": [],
   "source": [
    "new_total[\"BsmtUnfSF\"] = new_total[\"BsmtUnfSF\"].map(lambda x : math.log(x+1))"
   ]
  },
  {
   "cell_type": "code",
   "execution_count": null,
   "metadata": {},
   "outputs": [],
   "source": [
    "new_total[\"1stFlrSF\"] = new_total[\"1stFlrSF\"].map(lambda x : math.log(x+1))"
   ]
  },
  {
   "cell_type": "code",
   "execution_count": null,
   "metadata": {},
   "outputs": [],
   "source": [
    "new_total[\"2ndFlrSF\"] = new_total[\"2ndFlrSF\"].map(lambda x : math.log(x+1))"
   ]
  },
  {
   "cell_type": "code",
   "execution_count": null,
   "metadata": {},
   "outputs": [],
   "source": [
    "new_total[\"MasVnrArea\"] = new_total[\"MasVnrArea\"].map(lambda x : math.log(int(x)+1))\n",
    "new_total[\"WoodDeckSF\"] = new_total[\"WoodDeckSF\"].map(lambda x : math.log(int(x)+1))\n",
    "new_total[\"OpenPorchSF\"] = new_total[\"OpenPorchSF\"].map(lambda x : math.log(int(x)+1))"
   ]
  },
  {
   "cell_type": "code",
   "execution_count": null,
   "metadata": {},
   "outputs": [],
   "source": [
    "new_total[\"SalePrice\"] = new_total.SalePrice.map(lambda x: math.log(int(x)+1))"
   ]
  },
  {
   "cell_type": "code",
   "execution_count": null,
   "metadata": {},
   "outputs": [],
   "source": []
  },
  {
   "cell_type": "code",
   "execution_count": null,
   "metadata": {},
   "outputs": [],
   "source": [
    "#확인"
   ]
  },
  {
   "cell_type": "code",
   "execution_count": null,
   "metadata": {
    "scrolled": true
   },
   "outputs": [],
   "source": [
    "new_total.head(2)"
   ]
  },
  {
   "cell_type": "code",
   "execution_count": null,
   "metadata": {},
   "outputs": [],
   "source": []
  },
  {
   "cell_type": "code",
   "execution_count": null,
   "metadata": {},
   "outputs": [],
   "source": [
    "#히트맵으로 확인\n",
    "#training = training = new_total.iloc[:len(training)]"
   ]
  },
  {
   "cell_type": "code",
   "execution_count": null,
   "metadata": {},
   "outputs": [],
   "source": [
    "#n= len(selected_with_SalePrice)\n",
    "#colormap = plt.cm.viridis\n",
    "#plt.figure(figsize=(n,n))\n",
    "#plt.title('Pearson Correlation of Features', y=1.05, size=15)\n",
    "#sns.heatmap(training.corr(),\n",
    "#            linewidths=0.1,\n",
    "#            vmax=1.0, \n",
    "#            square=True, \n",
    "#            cmap=colormap, \n",
    "#            linecolor='white', \n",
    "#            annot=True)"
   ]
  },
  {
   "cell_type": "code",
   "execution_count": null,
   "metadata": {},
   "outputs": [],
   "source": [
    "new_total2 = dummify_category_cols(new_total,category_selected)"
   ]
  },
  {
   "cell_type": "code",
   "execution_count": null,
   "metadata": {},
   "outputs": [],
   "source": [
    "new_total2.head(2)"
   ]
  },
  {
   "cell_type": "code",
   "execution_count": null,
   "metadata": {},
   "outputs": [],
   "source": [
    "training = new_total2.iloc[:len(training)]\n",
    "test = new_total2.iloc[len(training):]"
   ]
  },
  {
   "cell_type": "code",
   "execution_count": null,
   "metadata": {},
   "outputs": [],
   "source": [
    "#여기서 selected 재설정"
   ]
  },
  {
   "cell_type": "code",
   "execution_count": null,
   "metadata": {},
   "outputs": [],
   "source": []
  },
  {
   "cell_type": "code",
   "execution_count": null,
   "metadata": {},
   "outputs": [],
   "source": [
    "new_total.isnull().sum()"
   ]
  },
  {
   "cell_type": "code",
   "execution_count": null,
   "metadata": {
    "scrolled": true
   },
   "outputs": [],
   "source": [
    "training['is_train'] = np.random.uniform(0, 1, len(training)) <= .75"
   ]
  },
  {
   "cell_type": "code",
   "execution_count": null,
   "metadata": {},
   "outputs": [],
   "source": [
    "training_set = training[training['is_train']==True]\n",
    "test_set = training[training['is_train']==False]"
   ]
  },
  {
   "cell_type": "code",
   "execution_count": null,
   "metadata": {},
   "outputs": [],
   "source": [
    "forest = RandomForestRegressor(n_estimators=6000, n_jobs=3)\n",
    "#adaboost = AdaBoostRegressor(n_estimators=5000)\n",
    "#gradientboosting = GradientBoostingRegressor(loss = \"huber\", n_estimators=5000, max_depth=15)\n",
    "#extratrees = ExtraTreesRegressor(n_estimators=6000, n_jobs =3)\n",
    "bagging = BaggingRegressor(n_estimators=6000,n_jobs =3 )\n",
    "#mlp = MLPRegressor(hidden_layer_sizes = (150,1), activation = \"relu\", max_iter=100000)"
   ]
  },
  {
   "cell_type": "code",
   "execution_count": null,
   "metadata": {},
   "outputs": [],
   "source": [
    "feature = new_total2.columns.drop(\"SalePrice\")\n",
    "target = [\"SalePrice\"]"
   ]
  },
  {
   "cell_type": "code",
   "execution_count": null,
   "metadata": {
    "scrolled": false
   },
   "outputs": [],
   "source": [
    "forest.fit(training_set[feature], training_set[target])\n",
    "#adaboost.fit(training_set[feature], training_set[target])\n",
    "#gradientboosting.fit(training_set[feature], training_set[target])\n",
    "#extratrees.fit(training_set[feature], training_set[target])\n",
    "bagging.fit(training_set[feature], training_set[target])\n",
    "#mlp.fit(training_set[feature], training_set[target])\n"
   ]
  },
  {
   "cell_type": "code",
   "execution_count": null,
   "metadata": {
    "scrolled": true
   },
   "outputs": [],
   "source": [
    "#forest.predict(test_set[feature])"
   ]
  },
  {
   "cell_type": "code",
   "execution_count": null,
   "metadata": {
    "scrolled": true
   },
   "outputs": [],
   "source": [
    "print(\"forest : \",forest.score(test_set[feature], test_set[target]))\n",
    "#print(\"adaboost : \",adaboost.score(test_set[feature], test_set[target]))\n",
    "#print(\"gb : \",gradientboosting.score(test_set[feature], test_set[target]))\n",
    "#print(\"extratrees : \",extratrees.score(test_set[feature], test_set[target]))\n",
    "print(\"bagging : \",bagging.score(test_set[feature], test_set[target]))\n",
    "#print(\"mlp : \",mlp.score(test_set[feature], test_set[target]))"
   ]
  },
  {
   "cell_type": "code",
   "execution_count": null,
   "metadata": {},
   "outputs": [],
   "source": [
    "y_pred1=forest.predict(test_set[feature])\n",
    "#y_pred2=adaboost.predict(test_set[feature])\n",
    "#y_pred3=gradientboosting.predict(test_set[feature])\n",
    "#y_pred4=extratrees.predict(test_set[feature])\n",
    "y_pred5=bagging.predict(test_set[feature])\n",
    "#y_pred6=mlp.predict(test_set[feature])"
   ]
  },
  {
   "cell_type": "code",
   "execution_count": null,
   "metadata": {},
   "outputs": [],
   "source": [
    "y_pred1 = np.array(list(map(lambda x: math.exp(x)-1,y_pred1)))\n",
    "#y_pred2 = np.array(list(map(lambda x: math.exp(x)-1,y_pred2)))\n",
    "#y_pred3 = np.array(list(map(lambda x: math.exp(x)-1,y_pred3)))\n",
    "#y_pred4 = np.array(list(map(lambda x: math.exp(x)-1,y_pred4)))\n",
    "y_pred5 = np.array(list(map(lambda x: math.exp(x)-1,y_pred5)))\n",
    "#y_pred6 = np.array(list(map(lambda x: math.exp(x)-1,y_pred6)))"
   ]
  },
  {
   "cell_type": "code",
   "execution_count": null,
   "metadata": {},
   "outputs": [],
   "source": [
    "y_true = test_set[\"SalePrice\"]\n",
    "y_ture= np.array(list(map(lambda x: math.exp(x)-1,y_true)))"
   ]
  },
  {
   "cell_type": "code",
   "execution_count": null,
   "metadata": {
    "scrolled": true
   },
   "outputs": [],
   "source": [
    "rmse1 = RMSE(np.exp(y_true),y_pred1)\n",
    "#rmse2 = RMSE(np.exp(y_true),y_pred2)\n",
    "#rmse3 = RMSE(np.exp(y_true),y_pred3)\n",
    "#rmse4 = RMSE(np.exp(y_true),y_pred4)\n",
    "rmse5 = RMSE(np.exp(y_true),y_pred5)\n",
    "#rmse6 = RMSE(np.exp(y_true),y_pred6)\n",
    "print(\"forest : \",rmse1)\n",
    "#print(\"adaboost : \",rmse2)\n",
    "#print(\"gb : \",rmse3)\n",
    "#print(\"extratrees : \",rmse4)\n",
    "print(\"bagging : \",rmse5)\n",
    "#print(\"mlp : \",rmse6)"
   ]
  },
  {
   "cell_type": "code",
   "execution_count": null,
   "metadata": {},
   "outputs": [],
   "source": []
  },
  {
   "cell_type": "code",
   "execution_count": null,
   "metadata": {},
   "outputs": [],
   "source": [
    "#importance = pd.DataFrame(forest.feature_importances_, index = training_set[feature].columns)"
   ]
  },
  {
   "cell_type": "code",
   "execution_count": null,
   "metadata": {
    "scrolled": false
   },
   "outputs": [],
   "source": [
    "#(\n",
    "#    importance.assign(header = lambda x: x.index.str.split(\"_\").str[0])\n",
    "#                  .groupby(\"header\")[0]\n",
    "#                  .sum()\n",
    "#                  .iplot(kind=\"bar\")\n",
    "#)"
   ]
  },
  {
   "cell_type": "code",
   "execution_count": null,
   "metadata": {},
   "outputs": [],
   "source": []
  },
  {
   "cell_type": "code",
   "execution_count": null,
   "metadata": {},
   "outputs": [],
   "source": []
  },
  {
   "cell_type": "code",
   "execution_count": null,
   "metadata": {},
   "outputs": [],
   "source": []
  },
  {
   "cell_type": "code",
   "execution_count": null,
   "metadata": {},
   "outputs": [],
   "source": [
    "#최적화"
   ]
  },
  {
   "cell_type": "code",
   "execution_count": null,
   "metadata": {},
   "outputs": [],
   "source": [
    "best_score = 0\n",
    "for N in range(4000,8500,500):\n",
    "    tmp = RandomForestRegressor(n_estimators=N)\n",
    "    tmp.fit(training_set[feature], training_set[target])\n",
    "    score = tmp.score(test_set[feature],test_set[target])\n",
    "    print(\"최적화 n_estimator 값 : {}\".format(N))\n",
    "    print(\"예측률 : {}\".format(score))\n",
    "    \n",
    "    if score>best_score:\n",
    "        best_score = score\n",
    "        best_N = N\n",
    "        best_rf_model = tmp\n",
    "        \n",
    "print(\"최적화 n_estimator 값 : {}\".format(best_N))\n",
    "print(\"예측률 : {}\".format(best_score))"
   ]
  },
  {
   "cell_type": "code",
   "execution_count": null,
   "metadata": {
    "scrolled": false
   },
   "outputs": [],
   "source": [
    "best_score = 0\n",
    "for N in range(13,21):\n",
    "    tmp = RandomForestRegressor(n_estimators=4500, max_depth = N)\n",
    "    tmp.fit(training_set[feature], training_set[target])\n",
    "    score = tmp.score(test_set[feature],test_set[target])\n",
    "    \n",
    "    if score>best_score:\n",
    "        best_score = score\n",
    "        best_N = N\n",
    "        best_rf_model = tmp\n",
    "        \n",
    "print(\"최적화 max_depth 값 : {}\".format(best_N))\n",
    "print(\"예측률 : {}\".format(best_score))"
   ]
  },
  {
   "cell_type": "code",
   "execution_count": null,
   "metadata": {},
   "outputs": [],
   "source": []
  },
  {
   "cell_type": "code",
   "execution_count": null,
   "metadata": {},
   "outputs": [],
   "source": []
  },
  {
   "cell_type": "code",
   "execution_count": null,
   "metadata": {},
   "outputs": [],
   "source": []
  },
  {
   "cell_type": "code",
   "execution_count": null,
   "metadata": {},
   "outputs": [],
   "source": []
  },
  {
   "cell_type": "code",
   "execution_count": null,
   "metadata": {},
   "outputs": [],
   "source": [
    "#제출"
   ]
  },
  {
   "cell_type": "code",
   "execution_count": null,
   "metadata": {
    "scrolled": true
   },
   "outputs": [],
   "source": [
    "forest.fit(training[feature], training[target])\n",
    "#adaboost.fit(training[feature], training[target])\n",
    "#gradientboosting.fit(training[feature], training[target])\n",
    "#extratrees.fit(training[feature], training[target])\n",
    "bagging.fit(training[feature], training[target])\n",
    "#mlp.fit(training[feature], training[target])"
   ]
  },
  {
   "cell_type": "code",
   "execution_count": null,
   "metadata": {},
   "outputs": [],
   "source": [
    "prediction1 =forest.predict(test[feature])\n",
    "#prediction2 =adaboost.predict(test[feature])\n",
    "#prediction3 =gradientboosting.predict(test[feature])\n",
    "#prediction4 =extratrees.predict(test[feature])\n",
    "prediction5 =bagging.predict(test[feature])\n",
    "#prediction6 =mlp.predict(test[feature])"
   ]
  },
  {
   "cell_type": "code",
   "execution_count": null,
   "metadata": {},
   "outputs": [],
   "source": [
    "prediction1 = np.array(list(map(lambda x: math.exp(x)-1,prediction1)))\n",
    "#prediction2 = np.array(list(map(lambda x: math.exp(x)-1,prediction2)))\n",
    "#prediction3 = np.array(list(map(lambda x: math.exp(x)-1,prediction3)))\n",
    "#prediction4 = np.array(list(map(lambda x: math.exp(x)-1,prediction4)))\n",
    "prediction5 = np.array(list(map(lambda x: math.exp(x)-1,prediction5)))\n",
    "#prediction6 = np.array(list(map(lambda x: math.exp(x)-1,prediction6)))"
   ]
  },
  {
   "cell_type": "code",
   "execution_count": null,
   "metadata": {},
   "outputs": [],
   "source": [
    "submission1 = pd.DataFrame({'Id':list(test.index+1),'SalePrice':prediction1})\n",
    "#submission2 = pd.DataFrame({'Id':list(test.index+1),'SalePrice':prediction2})\n",
    "#submission3 = pd.DataFrame({'Id':list(test.index+1),'SalePrice':prediction3})\n",
    "#submission4 = pd.DataFrame({'Id':list(test.index+1),'SalePrice':prediction4})\n",
    "submission5 = pd.DataFrame({'Id':list(test.index+1),'SalePrice':prediction5})\n",
    "#submission6 = pd.DataFrame({'Id':list(test.index+1),'SalePrice':prediction6})"
   ]
  },
  {
   "cell_type": "code",
   "execution_count": null,
   "metadata": {},
   "outputs": [],
   "source": []
  },
  {
   "cell_type": "code",
   "execution_count": null,
   "metadata": {},
   "outputs": [],
   "source": [
    "submission1.to_csv(\"Submission_forest5.csv\")\n",
    "#submission2.to_csv(\"Submission_adaboost3.csv\")\n",
    "#submission3.to_csv(\"Submission_gradientboosting3.csv\")\n",
    "#submission4.to_csv(\"Submission_extratrees3.csv\")\n",
    "submission5.to_csv(\"Submission_bagging5.csv\")\n",
    "#submission6.to_csv(\"Submission_mlp1.csv\")"
   ]
  },
  {
   "cell_type": "code",
   "execution_count": null,
   "metadata": {},
   "outputs": [],
   "source": []
  }
 ],
 "metadata": {
  "kernelspec": {
   "display_name": "Python 3",
   "language": "python",
   "name": "python3"
  },
  "language_info": {
   "codemirror_mode": {
    "name": "ipython",
    "version": 3
   },
   "file_extension": ".py",
   "mimetype": "text/x-python",
   "name": "python",
   "nbconvert_exporter": "python",
   "pygments_lexer": "ipython3",
   "version": "3.7.1"
  }
 },
 "nbformat": 4,
 "nbformat_minor": 2
}
