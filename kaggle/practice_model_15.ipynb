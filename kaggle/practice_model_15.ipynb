{
 "cells": [
  {
   "cell_type": "code",
   "execution_count": null,
   "metadata": {},
   "outputs": [],
   "source": [
    "#모듈\n",
    "import math\n",
    "import pandas as pd\n",
    "import numpy as np\n",
    "\n",
    "try:\n",
    "    import cufflinks as cf\n",
    "except:\n",
    "    !pip install cufflinks\n",
    "    import cufflinks as cf\n",
    "\n",
    "cf.go_offline()\n",
    "\n",
    "from sklearn.ensemble import RandomForestRegressor\n",
    "\n",
    "import matplotlib.pyplot as plt\n",
    "%matplotlib inline\n",
    "%config InlineBackend.figure_format = 'retina'"
   ]
  },
  {
   "cell_type": "code",
   "execution_count": null,
   "metadata": {},
   "outputs": [],
   "source": [
    "# 데이터 다루기\n",
    "pd.set_option(\"Display.max_columns\",200)\n",
    "import re\n",
    "import time\n",
    "\n",
    "# 데이터 시각화\n",
    "import seaborn as sns\n",
    "\n",
    "# 사용할 머신러닝 모델들 - RandomForest, AdaBoost, GradientBoost, ExtraTrees\n",
    "import sklearn\n",
    "from sklearn.metrics import log_loss\n",
    "from sklearn.svm import SVC"
   ]
  },
  {
   "cell_type": "code",
   "execution_count": null,
   "metadata": {},
   "outputs": [],
   "source": [
    "#명목형 변수 더미화\n",
    "def dummify_category_cols(df,cols):\n",
    "    dummies = []\n",
    "    new_df = df.copy()\n",
    "\n",
    "    for idx in range(len(cols)):\n",
    "        new_df = new_df.join(pd.get_dummies(total[cols[idx]], prefix = cols[idx]))\n",
    "        new_df = new_df.drop(cols[idx], axis =1)\n",
    "    return new_df"
   ]
  },
  {
   "cell_type": "code",
   "execution_count": null,
   "metadata": {},
   "outputs": [],
   "source": [
    "#숫자형 변수 범주화\n",
    "def dummify_number_cols(df, cols, nums) :\n",
    "    new_df = df.copy() \n",
    "    \n",
    "    for col, num in zip(cols, nums) :\n",
    "        new_df[col] =new_df[col].map(lambda x: int(x)//num * num)\n",
    "    return new_df\n"
   ]
  },
  {
   "cell_type": "code",
   "execution_count": null,
   "metadata": {},
   "outputs": [],
   "source": [
    "#명목형 변수의 연속형 변환 - 변수의 차원을 낮추기 위하여\n",
    "def num_category(df, col, chg) :\n",
    "    new_df = df.copy()\n",
    "    set = {}\n",
    "    \n",
    "    for idx in range(len(chg)) :\n",
    "        set[chg[idx]] = idx\n",
    "        \n",
    "    new_df[col] = new_df[col].map(set)\n",
    "    \n",
    "    return new_df        "
   ]
  },
  {
   "cell_type": "code",
   "execution_count": null,
   "metadata": {},
   "outputs": [],
   "source": [
    "#숫자형 변수 일정 이상은 묶어버리기\n",
    "def number_group_cols(df, cols, nums) :\n",
    "    new_df = df.copy() \n",
    "    \n",
    "    for col, num in zip(cols, nums) :\n",
    "        new_df[col] =new_df[col].map(lambda x: num if x> num else x )\n",
    "    return new_df\n"
   ]
  },
  {
   "cell_type": "code",
   "execution_count": null,
   "metadata": {},
   "outputs": [],
   "source": [
    "#RMS 구하기\n",
    "def RMSE(y_true,y_pred):\n",
    "    \n",
    "    squaredErrors = (y_pred - y_true)**2\n",
    "    MSE = squaredErrors.mean()\n",
    "    \n",
    "    return math.sqrt(MSE)"
   ]
  },
  {
   "cell_type": "code",
   "execution_count": null,
   "metadata": {},
   "outputs": [],
   "source": [
    "#본격적으로 시작"
   ]
  },
  {
   "cell_type": "code",
   "execution_count": null,
   "metadata": {},
   "outputs": [],
   "source": [
    "training = pd.read_csv(\"house_price.csv\")\n",
    "test = pd.read_csv(\"test.csv\")\n",
    "\n",
    "#training = training[np.isfinite(training[\"GarageYrBlt\"])]"
   ]
  },
  {
   "cell_type": "code",
   "execution_count": null,
   "metadata": {},
   "outputs": [],
   "source": [
    "total = pd.concat([training, test]).reset_index()\n",
    "del total[\"index\"]"
   ]
  },
  {
   "cell_type": "code",
   "execution_count": null,
   "metadata": {
    "scrolled": true
   },
   "outputs": [],
   "source": [
    "total.head(2)"
   ]
  },
  {
   "cell_type": "code",
   "execution_count": null,
   "metadata": {
    "scrolled": true
   },
   "outputs": [],
   "source": [
    "total.columns"
   ]
  },
  {
   "cell_type": "code",
   "execution_count": null,
   "metadata": {},
   "outputs": [],
   "source": [
    "#선택된 변수\n",
    "category_selected = [\"Neighborhood\", \"OverallQual\", \n",
    "            \"MasVnrType\", \"ExterQual\", \"ExterCond\",\n",
    "            \"FullBath\", \n",
    "            \"TotRmsAbvGrd\", \"Fireplaces\",\n",
    "            \"GarageCars\"]\n",
    "\n",
    "extra_selected = [ \"GarageCars\", \"OverallQual\",\"OverallCond\"]\n",
    "\n",
    "number_selected = [\"GarageYrBlt\",\"YearBuilt\", \"YearRemodAdd\", \"BsmtFinSF1\", \"BsmtUnfSF\", \"TotalBsmtSF\", \"1stFlrSF\", \"2ndFlrSF\", \"GrLivArea\", 'GarageArea', \"LotArea\", \"MasVnrArea\", \"WoodDeckSF\", \"OpenPorchSF\"]\n",
    "\n",
    "category_selected = [x for x in category_selected if x not in extra_selected]\n",
    "\n",
    "total_selected = category_selected + number_selected + extra_selected\n",
    "\n",
    "selected_with_SalePrice = total_selected +[\"SalePrice\"]"
   ]
  },
  {
   "cell_type": "code",
   "execution_count": null,
   "metadata": {
    "scrolled": false
   },
   "outputs": [],
   "source": [
    "new_total = total[selected_with_SalePrice].copy()\n",
    "new_total.head(2)"
   ]
  },
  {
   "cell_type": "code",
   "execution_count": null,
   "metadata": {},
   "outputs": [],
   "source": [
    "#임시 전처리"
   ]
  },
  {
   "cell_type": "code",
   "execution_count": null,
   "metadata": {},
   "outputs": [],
   "source": []
  },
  {
   "cell_type": "code",
   "execution_count": null,
   "metadata": {},
   "outputs": [],
   "source": []
  },
  {
   "cell_type": "code",
   "execution_count": null,
   "metadata": {},
   "outputs": [],
   "source": []
  },
  {
   "cell_type": "code",
   "execution_count": null,
   "metadata": {},
   "outputs": [],
   "source": []
  },
  {
   "cell_type": "code",
   "execution_count": null,
   "metadata": {
    "scrolled": false
   },
   "outputs": [],
   "source": [
    "#전처리1 - 연속형데이터 중 null값이 있는 행 모두 버려주기\n",
    "new_total[number_selected].isnull().sum()"
   ]
  },
  {
   "cell_type": "code",
   "execution_count": null,
   "metadata": {},
   "outputs": [],
   "source": [
    "new_total[\"YearBuilt\"] = new_total[\"YearBuilt\"].fillna(new_total.YearBuilt.mean())"
   ]
  },
  {
   "cell_type": "code",
   "execution_count": null,
   "metadata": {},
   "outputs": [],
   "source": [
    "new_total[\"BsmtFinSF1\"] = new_total[\"BsmtFinSF1\"].fillna(new_total.BsmtFinSF1.mean())"
   ]
  },
  {
   "cell_type": "code",
   "execution_count": null,
   "metadata": {},
   "outputs": [],
   "source": [
    "new_total[\"BsmtUnfSF\"] = new_total[\"BsmtUnfSF\"].fillna(new_total.BsmtUnfSF.mean())"
   ]
  },
  {
   "cell_type": "code",
   "execution_count": null,
   "metadata": {},
   "outputs": [],
   "source": [
    "new_total[\"TotalBsmtSF\"] = new_total[\"TotalBsmtSF\"].fillna(new_total.TotalBsmtSF.mean())"
   ]
  },
  {
   "cell_type": "code",
   "execution_count": null,
   "metadata": {},
   "outputs": [],
   "source": [
    "new_total[\"GarageArea\"] = new_total[\"GarageArea\"].fillna(new_total.GarageArea.mean())"
   ]
  },
  {
   "cell_type": "code",
   "execution_count": null,
   "metadata": {},
   "outputs": [],
   "source": [
    "new_total[\"GarageYrBlt\"] = new_total[\"GarageYrBlt\"].fillna(new_total.GarageYrBlt.mean())"
   ]
  },
  {
   "cell_type": "code",
   "execution_count": null,
   "metadata": {},
   "outputs": [],
   "source": [
    "#new_total[\"Electrical\"] = new_total[\"Electrical\"].fillna(\"SBrkr\")"
   ]
  },
  {
   "cell_type": "code",
   "execution_count": null,
   "metadata": {},
   "outputs": [],
   "source": [
    "new_total = new_total.fillna(\"404\")"
   ]
  },
  {
   "cell_type": "code",
   "execution_count": null,
   "metadata": {},
   "outputs": [],
   "source": [
    "new_total.isnull().sum()"
   ]
  },
  {
   "cell_type": "code",
   "execution_count": null,
   "metadata": {
    "scrolled": false
   },
   "outputs": [],
   "source": [
    "new_total.head()"
   ]
  },
  {
   "cell_type": "code",
   "execution_count": null,
   "metadata": {},
   "outputs": [],
   "source": [
    "#명목형 변수를 연속형으로 바꿔주는 것"
   ]
  },
  {
   "cell_type": "code",
   "execution_count": null,
   "metadata": {},
   "outputs": [],
   "source": [
    "#new_total = num_category(new_total, \"Electrical\", [\"Mix\", \"FuseP\", \"FuseF\", \"FuseA\", \"SBrkr\"])"
   ]
  },
  {
   "cell_type": "code",
   "execution_count": null,
   "metadata": {},
   "outputs": [],
   "source": []
  },
  {
   "cell_type": "code",
   "execution_count": null,
   "metadata": {},
   "outputs": [],
   "source": [
    "#new_total = num_category(new_total, \"Functional\", [\"404\", \"Sal\", \"Sev\", \"Maj2\", \"Maj1\", \"Mod\", \"Min2\", \"Min1\", \"Typ\"])\n",
    "#new_total.Functional.unique()"
   ]
  },
  {
   "cell_type": "code",
   "execution_count": null,
   "metadata": {},
   "outputs": [],
   "source": [
    "#변수끼리 합쳐주는 것"
   ]
  },
  {
   "cell_type": "code",
   "execution_count": null,
   "metadata": {},
   "outputs": [],
   "source": []
  },
  {
   "cell_type": "code",
   "execution_count": null,
   "metadata": {},
   "outputs": [],
   "source": [
    "#임시 전처리"
   ]
  },
  {
   "cell_type": "code",
   "execution_count": null,
   "metadata": {},
   "outputs": [],
   "source": [
    "new_total = new_total.assign(Is_Remod =  lambda x : x[\"YearBuilt\"] != x[\"YearRemodAdd\"])\n",
    "new_total[\"Is_Remod\"] = new_total.YearRemodAdd.map(lambda x : 1 if x == True else 0)\n",
    "new_total[\"after\"] = 2011 - new_total[\"YearRemodAdd\"]\n",
    "new_total = new_total.drop(\"YearRemodAdd\", axis = 1)"
   ]
  },
  {
   "cell_type": "code",
   "execution_count": null,
   "metadata": {},
   "outputs": [],
   "source": [
    "#new_total = new_total.assign(Is_bsmt_unfinish = lambda x : x[\"BsmtFinType1\"] == 0)\n",
    "#new_total[\"Is_bsmt_unfinish\"] = new_total.Is_bsmt_unfinish.map(lambda x : 1 if x == True else 0)"
   ]
  },
  {
   "cell_type": "code",
   "execution_count": null,
   "metadata": {},
   "outputs": [],
   "source": [
    "#new_total = new_total.assign(Is_Fireplaces = lambda x : x[\"Fireplaces\"] != 0)\n",
    "#new_total[\"Is_Fireplaces\"] = new_total.Is_Fireplaces.map(lambda x : 1 if x == True else 0)"
   ]
  },
  {
   "cell_type": "code",
   "execution_count": null,
   "metadata": {},
   "outputs": [],
   "source": [
    "#new_total = new_total.assign(Is_GarageFinish = lambda x : x[\"GarageFinish\"] != \"Unf\")\n",
    "#new_total[\"Is_GarageFinish \"] = new_total.Is_GarageFinish .map(lambda x : 1 if x == True else 0)"
   ]
  },
  {
   "cell_type": "code",
   "execution_count": null,
   "metadata": {},
   "outputs": [],
   "source": [
    "new_total[\"Total_Area\"] = new_total[\"GrLivArea\"] + new_total[\"LotArea\"] + new_total[\"GarageArea\"] + new_total[\"TotalBsmtSF\"]"
   ]
  },
  {
   "cell_type": "code",
   "execution_count": null,
   "metadata": {},
   "outputs": [],
   "source": [
    "new_total[\"GrLivArea\"] = new_total[\"GrLivArea\"].map(lambda x : math.log(x))"
   ]
  },
  {
   "cell_type": "code",
   "execution_count": null,
   "metadata": {},
   "outputs": [],
   "source": [
    "new_total[\"LotArea\"] = new_total[\"LotArea\"].map(lambda x : math.log(x))"
   ]
  },
  {
   "cell_type": "code",
   "execution_count": null,
   "metadata": {},
   "outputs": [],
   "source": [
    "new_total[\"GarageArea\"] = new_total[\"GarageArea\"].map(lambda x : math.log(x+1))"
   ]
  },
  {
   "cell_type": "code",
   "execution_count": null,
   "metadata": {},
   "outputs": [],
   "source": [
    "new_total[\"TotalBsmtSF\"] = new_total[\"TotalBsmtSF\"].map(lambda x : math.log(x+1))"
   ]
  },
  {
   "cell_type": "code",
   "execution_count": null,
   "metadata": {},
   "outputs": [],
   "source": [
    "new_total[\"Total_Area\"] = new_total[\"Total_Area\"].map(lambda x : math.log(x+1))"
   ]
  },
  {
   "cell_type": "code",
   "execution_count": null,
   "metadata": {},
   "outputs": [],
   "source": [
    "new_total[\"BsmtFinSF1\"] = new_total[\"BsmtFinSF1\"].map(lambda x : math.log(x+1))"
   ]
  },
  {
   "cell_type": "code",
   "execution_count": null,
   "metadata": {},
   "outputs": [],
   "source": [
    "new_total[\"BsmtUnfSF\"] = new_total[\"BsmtUnfSF\"].map(lambda x : math.log(x+1))"
   ]
  },
  {
   "cell_type": "code",
   "execution_count": null,
   "metadata": {},
   "outputs": [],
   "source": [
    "new_total[\"1stFlrSF\"] = new_total[\"1stFlrSF\"].map(lambda x : math.log(x+1))"
   ]
  },
  {
   "cell_type": "code",
   "execution_count": null,
   "metadata": {},
   "outputs": [],
   "source": [
    "new_total[\"2ndFlrSF\"] = new_total[\"2ndFlrSF\"].map(lambda x : math.log(x+1))"
   ]
  },
  {
   "cell_type": "code",
   "execution_count": null,
   "metadata": {},
   "outputs": [],
   "source": []
  },
  {
   "cell_type": "code",
   "execution_count": null,
   "metadata": {},
   "outputs": [],
   "source": [
    "new_total[\"is_masvnr\"] = new_total.MasVnrArea.map(lambda x : 0 if int(x) == 0 else 1)\n",
    "new_total[\"is_wood\"] = new_total.WoodDeckSF.map(lambda x : 0 if int(x) == 0 else 1)\n",
    "new_total[\"is_openporch\"] = new_total.OpenPorchSF.map(lambda x : 0 if int(x) == 0 else 1)"
   ]
  },
  {
   "cell_type": "code",
   "execution_count": null,
   "metadata": {},
   "outputs": [],
   "source": [
    "new_total[\"MasVnrArea\"] = new_total[\"MasVnrArea\"].map(lambda x : math.log(int(x)+1))\n",
    "new_total[\"WoodDeckSF\"] = new_total[\"WoodDeckSF\"].map(lambda x : math.log(int(x)+1))\n",
    "new_total[\"OpenPorchSF\"] = new_total[\"OpenPorchSF\"].map(lambda x : math.log(int(x)+1))"
   ]
  },
  {
   "cell_type": "code",
   "execution_count": null,
   "metadata": {},
   "outputs": [],
   "source": [
    "new_total[\"SalePrice\"] = new_total.SalePrice.map(lambda x: math.log(int(x)+1))"
   ]
  },
  {
   "cell_type": "code",
   "execution_count": null,
   "metadata": {},
   "outputs": [],
   "source": []
  },
  {
   "cell_type": "code",
   "execution_count": null,
   "metadata": {},
   "outputs": [],
   "source": [
    "#확인"
   ]
  },
  {
   "cell_type": "code",
   "execution_count": null,
   "metadata": {
    "scrolled": true
   },
   "outputs": [],
   "source": [
    "new_total.head(2)"
   ]
  },
  {
   "cell_type": "code",
   "execution_count": null,
   "metadata": {},
   "outputs": [],
   "source": []
  },
  {
   "cell_type": "code",
   "execution_count": null,
   "metadata": {},
   "outputs": [],
   "source": [
    "#히트맵으로 확인\n",
    "#training = training = new_total.iloc[:len(training)]"
   ]
  },
  {
   "cell_type": "code",
   "execution_count": null,
   "metadata": {},
   "outputs": [],
   "source": [
    "#n= len(selected_with_SalePrice)\n",
    "#colormap = plt.cm.viridis\n",
    "#plt.figure(figsize=(n,n))\n",
    "#plt.title('Pearson Correlation of Features', y=1.05, size=15)\n",
    "#sns.heatmap(training.corr(),\n",
    "#            linewidths=0.1,\n",
    "#            vmax=1.0, \n",
    "#            square=True, \n",
    "#            cmap=colormap, \n",
    "#            linecolor='white', \n",
    "#            annot=True)"
   ]
  },
  {
   "cell_type": "code",
   "execution_count": null,
   "metadata": {},
   "outputs": [],
   "source": [
    "new_total2 = dummify_category_cols(new_total,category_selected)"
   ]
  },
  {
   "cell_type": "code",
   "execution_count": null,
   "metadata": {},
   "outputs": [],
   "source": [
    "new_total2.head(2)"
   ]
  },
  {
   "cell_type": "code",
   "execution_count": null,
   "metadata": {},
   "outputs": [],
   "source": [
    "training = new_total2.iloc[:len(training)]\n",
    "test = new_total2.iloc[len(training):]"
   ]
  },
  {
   "cell_type": "code",
   "execution_count": null,
   "metadata": {},
   "outputs": [],
   "source": [
    "#여기서 selected 재설정"
   ]
  },
  {
   "cell_type": "code",
   "execution_count": null,
   "metadata": {},
   "outputs": [],
   "source": []
  },
  {
   "cell_type": "code",
   "execution_count": null,
   "metadata": {},
   "outputs": [],
   "source": [
    "training.head(2)"
   ]
  },
  {
   "cell_type": "code",
   "execution_count": null,
   "metadata": {
    "scrolled": true
   },
   "outputs": [],
   "source": []
  },
  {
   "cell_type": "code",
   "execution_count": null,
   "metadata": {
    "scrolled": true
   },
   "outputs": [],
   "source": [
    "training['is_train'] = np.random.uniform(0, 1, len(training)) <= .75"
   ]
  },
  {
   "cell_type": "code",
   "execution_count": null,
   "metadata": {},
   "outputs": [],
   "source": [
    "training_set = training[training['is_train']==True]\n",
    "test_set = training[training['is_train']==False]"
   ]
  },
  {
   "cell_type": "code",
   "execution_count": null,
   "metadata": {},
   "outputs": [],
   "source": [
    "N = 3000\n",
    "forest = RandomForestRegressor(n_estimators=N, n_jobs=2)"
   ]
  },
  {
   "cell_type": "code",
   "execution_count": null,
   "metadata": {},
   "outputs": [],
   "source": [
    "feature = new_total2.columns.drop(\"SalePrice\")\n",
    "target = [\"SalePrice\"]"
   ]
  },
  {
   "cell_type": "code",
   "execution_count": null,
   "metadata": {
    "scrolled": false
   },
   "outputs": [],
   "source": [
    "forest.fit(training_set[feature], training_set[target])"
   ]
  },
  {
   "cell_type": "code",
   "execution_count": null,
   "metadata": {
    "scrolled": true
   },
   "outputs": [],
   "source": [
    "forest.predict(test_set[feature])"
   ]
  },
  {
   "cell_type": "code",
   "execution_count": null,
   "metadata": {
    "scrolled": true
   },
   "outputs": [],
   "source": [
    "forest.score(test_set[feature], test_set[target])"
   ]
  },
  {
   "cell_type": "code",
   "execution_count": null,
   "metadata": {},
   "outputs": [],
   "source": [
    "y_pred=forest.predict(test_set[feature])"
   ]
  },
  {
   "cell_type": "code",
   "execution_count": null,
   "metadata": {},
   "outputs": [],
   "source": []
  },
  {
   "cell_type": "code",
   "execution_count": null,
   "metadata": {},
   "outputs": [],
   "source": [
    "y_pred = np.array(list(map(lambda x: math.exp(x)-1,y_pred)))"
   ]
  },
  {
   "cell_type": "code",
   "execution_count": null,
   "metadata": {},
   "outputs": [],
   "source": [
    "y_true = test_set[\"SalePrice\"]\n",
    "y_ture= np.array(list(map(lambda x: math.exp(x)-1,y_true)))"
   ]
  },
  {
   "cell_type": "code",
   "execution_count": null,
   "metadata": {},
   "outputs": [],
   "source": [
    "y_true = test_set[\"SalePrice\"]\n",
    "rmse = RMSE(y_true,y_pred)\n",
    "print(rmse)"
   ]
  },
  {
   "cell_type": "code",
   "execution_count": null,
   "metadata": {},
   "outputs": [],
   "source": []
  },
  {
   "cell_type": "code",
   "execution_count": null,
   "metadata": {},
   "outputs": [],
   "source": [
    "importance = pd.DataFrame(forest.feature_importances_, index = training_set[feature].columns)"
   ]
  },
  {
   "cell_type": "code",
   "execution_count": null,
   "metadata": {
    "scrolled": false
   },
   "outputs": [],
   "source": [
    "(\n",
    "    importance.assign(header = lambda x: x.index.str.split(\"_\").str[0])\n",
    "                  .groupby(\"header\")[0]\n",
    "                  .sum()\n",
    "                  .iplot(kind=\"bar\")\n",
    ")"
   ]
  },
  {
   "cell_type": "code",
   "execution_count": null,
   "metadata": {},
   "outputs": [],
   "source": []
  },
  {
   "cell_type": "code",
   "execution_count": null,
   "metadata": {},
   "outputs": [],
   "source": []
  },
  {
   "cell_type": "code",
   "execution_count": null,
   "metadata": {},
   "outputs": [],
   "source": []
  },
  {
   "cell_type": "code",
   "execution_count": null,
   "metadata": {},
   "outputs": [],
   "source": [
    "#최적화"
   ]
  },
  {
   "cell_type": "code",
   "execution_count": null,
   "metadata": {},
   "outputs": [],
   "source": [
    "# 최적화할 파라미터 N\n",
    "best_score = 0\n",
    "for N in range(4000,8500,500):\n",
    "    tmp = RandomForestRegressor(n_estimators=N)\n",
    "    tmp.fit(training_set[feature], training_set[target])\n",
    "    score = tmp.score(test_set[feature],test_set[target])\n",
    "    print(\"최적화 n_estimator 값 : {}\".format(N))\n",
    "    print(\"예측률 : {}\".format(score))\n",
    "    \n",
    "    # 만약 기존의 모델보다 더 예측률이 높다면, 최신화합니다\n",
    "    if score>best_score:\n",
    "        best_score = score\n",
    "        best_N = N\n",
    "        best_rf_model = tmp\n",
    "        \n",
    "print(\"최적화 n_estimator 값 : {}\".format(best_N))\n",
    "print(\"예측률 : {}\".format(best_score))"
   ]
  },
  {
   "cell_type": "code",
   "execution_count": null,
   "metadata": {
    "scrolled": false
   },
   "outputs": [],
   "source": [
    "#best_score = 0\n",
    "#for N in range(13,21):\n",
    "#    tmp = RandomForestRegressor(n_estimators=4500, max_depth = N)\n",
    "#    tmp.fit(training_set[feature], training_set[target])\n",
    "#    score = tmp.score(test_set[feature],test_set[target])\n",
    "#    \n",
    "#    # 만약 기존의 모델보다 더 예측률이 높다면, 최신화합니다\n",
    "#    if score>best_score:\n",
    "#        best_score = score\n",
    "#        best_N = N\n",
    "#        best_rf_model = tmp\n",
    "        \n",
    "#print(\"최적화 max_depth 값 : {}\".format(best_N))\n",
    "#print(\"예측률 : {}\".format(best_score))"
   ]
  },
  {
   "cell_type": "code",
   "execution_count": null,
   "metadata": {},
   "outputs": [],
   "source": []
  },
  {
   "cell_type": "code",
   "execution_count": null,
   "metadata": {},
   "outputs": [],
   "source": []
  },
  {
   "cell_type": "code",
   "execution_count": null,
   "metadata": {},
   "outputs": [],
   "source": []
  },
  {
   "cell_type": "code",
   "execution_count": null,
   "metadata": {},
   "outputs": [],
   "source": []
  },
  {
   "cell_type": "code",
   "execution_count": null,
   "metadata": {},
   "outputs": [],
   "source": [
    "#제출"
   ]
  },
  {
   "cell_type": "code",
   "execution_count": null,
   "metadata": {
    "scrolled": true
   },
   "outputs": [],
   "source": [
    "forest.fit(training[feature], training[target])"
   ]
  },
  {
   "cell_type": "code",
   "execution_count": null,
   "metadata": {},
   "outputs": [],
   "source": [
    "prediction =forest.predict(test[feature])"
   ]
  },
  {
   "cell_type": "code",
   "execution_count": null,
   "metadata": {},
   "outputs": [],
   "source": [
    "prediction = np.array(list(map(lambda x: math.exp(x)-1,prediction)))"
   ]
  },
  {
   "cell_type": "code",
   "execution_count": null,
   "metadata": {},
   "outputs": [],
   "source": [
    "submission = pd.DataFrame({'Id':list(test.index+1),'SalePrice':prediction})"
   ]
  },
  {
   "cell_type": "code",
   "execution_count": null,
   "metadata": {},
   "outputs": [],
   "source": []
  },
  {
   "cell_type": "code",
   "execution_count": null,
   "metadata": {},
   "outputs": [],
   "source": [
    "submission.to_csv(\"Submission37.csv\")"
   ]
  },
  {
   "cell_type": "code",
   "execution_count": null,
   "metadata": {},
   "outputs": [],
   "source": []
  }
 ],
 "metadata": {
  "kernelspec": {
   "display_name": "Python 3",
   "language": "python",
   "name": "python3"
  },
  "language_info": {
   "codemirror_mode": {
    "name": "ipython",
    "version": 3
   },
   "file_extension": ".py",
   "mimetype": "text/x-python",
   "name": "python",
   "nbconvert_exporter": "python",
   "pygments_lexer": "ipython3",
   "version": "3.7.1"
  }
 },
 "nbformat": 4,
 "nbformat_minor": 2
}
