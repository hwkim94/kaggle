{
 "cells": [
  {
   "cell_type": "code",
   "execution_count": null,
   "metadata": {},
   "outputs": [],
   "source": [
    "#EDA"
   ]
  },
  {
   "cell_type": "code",
   "execution_count": null,
   "metadata": {},
   "outputs": [],
   "source": [
    "#모듈\n",
    "\n",
    "import pandas as pd\n",
    "import numpy as np\n",
    "\n",
    "try:\n",
    "    import cufflinks as cf\n",
    "except:\n",
    "    !pip install cufflinks\n",
    "    import cufflinks as cf\n",
    "\n",
    "cf.go_offline()\n",
    "\n",
    "import matplotlib.pyplot as plt\n",
    "%matplotlib inline\n",
    "%config InlineBackend.figure_format = 'retina'"
   ]
  },
  {
   "cell_type": "code",
   "execution_count": null,
   "metadata": {
    "scrolled": true
   },
   "outputs": [],
   "source": [
    "#데이터 확인\n",
    "raw_data = pd.read_csv(\"house_price.csv\")\n",
    "raw_data.head()"
   ]
  },
  {
   "cell_type": "code",
   "execution_count": null,
   "metadata": {},
   "outputs": [],
   "source": [
    "#임시책\n",
    "raw_data = raw_data.fillna(\"0\")"
   ]
  },
  {
   "cell_type": "code",
   "execution_count": null,
   "metadata": {
    "scrolled": true
   },
   "outputs": [],
   "source": [
    "#데이터 확인\n",
    "raw_data.columns"
   ]
  },
  {
   "cell_type": "code",
   "execution_count": null,
   "metadata": {},
   "outputs": [],
   "source": [
    "number_col = ['LotFrontage', 'LotArea', 'YearBuilt', 'YearRemodAdd', 'MasVnrArea', 'BsmtFinSF1', 'BsmtFinSF2', 'BsmtUnfSF', 'TotalBsmtSF', '1stFlrSF', '2ndFlrSF',\n",
    "       'LowQualFinSF', 'GrLivArea','GarageArea', 'WoodDeckSF', 'OpenPorchSF',\n",
    "       'EnclosedPorch', '3SsnPorch', 'ScreenPorch', 'PoolArea', 'MiscVal']"
   ]
  },
  {
   "cell_type": "code",
   "execution_count": null,
   "metadata": {},
   "outputs": [],
   "source": [
    "category_col = [x for x in raw_data.columns if x not in number_col]"
   ]
  },
  {
   "cell_type": "code",
   "execution_count": null,
   "metadata": {},
   "outputs": [],
   "source": [
    "N=15\n",
    "wts = category_col[N]\n",
    "wts = \"YearBuilt\"\n",
    "print(wts,\" {}/{}\".format(N, len(category_col)))"
   ]
  },
  {
   "cell_type": "code",
   "execution_count": null,
   "metadata": {},
   "outputs": [],
   "source": [
    "info_category = (\n",
    "    raw_data.groupby([wts]).size()\n",
    "            .to_frame()\n",
    "            .rename(columns = {0 : \"size\"})\n",
    ")\n",
    "\n",
    "print(info_category)"
   ]
  },
  {
   "cell_type": "code",
   "execution_count": null,
   "metadata": {},
   "outputs": [],
   "source": [
    "category = set(raw_data[wts].values)\n",
    "sample_size = min(set(info_category[\"size\"].values))\n",
    "condition_price = {}\n",
    "\n",
    "def make_pivot_full(df):\n",
    "    for ctg in category :\n",
    "        condition_price[ctg] = list(df[df[wts].map(lambda x: x == ctg )].sample(sample_size)[\"SalePrice\"])\n",
    "make_pivot_full(raw_data)"
   ]
  },
  {
   "cell_type": "code",
   "execution_count": null,
   "metadata": {},
   "outputs": [],
   "source": [
    "dat = []\n",
    "for ctg in category :\n",
    "    dat.append(pd.DataFrame(condition_price)[ctg])\n",
    "\n",
    "plt.figure() \n",
    "plt.boxplot(dat,1)\n",
    "plt.xlabel(wts)\n",
    "plt.ylabel('Race Record')\n",
    "plt.grid()   \n",
    "plt.show()"
   ]
  },
  {
   "cell_type": "code",
   "execution_count": null,
   "metadata": {
    "scrolled": false
   },
   "outputs": [],
   "source": [
    "raw_data.groupby(wts)[\"SalePrice\"].mean().iplot(kind = \"bar\")"
   ]
  },
  {
   "cell_type": "code",
   "execution_count": null,
   "metadata": {},
   "outputs": [],
   "source": [
    "raw_data.iplot(kind = \"scatter\", mode = \"markers\", x= wts, y= \"SalePrice\")"
   ]
  },
  {
   "cell_type": "code",
   "execution_count": null,
   "metadata": {
    "scrolled": true
   },
   "outputs": [],
   "source": [
    "#특이값 확인용\n",
    "raw_data[raw_data[\"TotRmsAbvGrd\"] >=12].head()"
   ]
  },
  {
   "cell_type": "code",
   "execution_count": null,
   "metadata": {},
   "outputs": [],
   "source": [
    "#------------------------------------------------"
   ]
  },
  {
   "cell_type": "code",
   "execution_count": null,
   "metadata": {},
   "outputs": [],
   "source": [
    "import math\n",
    "raw_data[\"SalePrice\"] = raw_data[\"SalePrice\"].map(lambda x : math.log(x))"
   ]
  },
  {
   "cell_type": "code",
   "execution_count": null,
   "metadata": {},
   "outputs": [],
   "source": [
    "raw_data[wts] = raw_data[wts].map(lambda x : math.log(x))"
   ]
  },
  {
   "cell_type": "code",
   "execution_count": null,
   "metadata": {
    "scrolled": false
   },
   "outputs": [],
   "source": [
    "#숫자형 변수 EDA\n",
    "N=12\n",
    "wts = number_col[N]\n",
    "print(wts,\" {}/{}\".format(N,len(number_col)))\n",
    "print(\"max : \", raw_data.groupby(wts).size().max())\n",
    "print(\"min : \", raw_data.groupby(wts).size().min())\n",
    "raw_data.groupby(wts)[\"SalePrice\"].mean().iplot(kind = \"scatter\", mode = \"markers\")"
   ]
  },
  {
   "cell_type": "code",
   "execution_count": null,
   "metadata": {},
   "outputs": [],
   "source": [
    "raw_data"
   ]
  },
  {
   "cell_type": "code",
   "execution_count": null,
   "metadata": {},
   "outputs": [],
   "source": [
    "#-----------------------------------------------"
   ]
  },
  {
   "cell_type": "code",
   "execution_count": null,
   "metadata": {},
   "outputs": [],
   "source": [
    "#숫자형의 카테고리화 EDA\n",
    "def dummify_number_cols(df, cols, nums) :\n",
    "    new_df = df.copy() \n",
    "    for col, num in zip(cols, nums) :\n",
    "        new_df[col] =new_df[col].map(lambda x: int(x)//num * num)\n",
    "    return new_df"
   ]
  },
  {
   "cell_type": "code",
   "execution_count": null,
   "metadata": {},
   "outputs": [],
   "source": [
    "num_lst = [10] * len(number_col)\n",
    "category_num_data = dummify_number_cols(raw_data,number_col,num_lst)"
   ]
  },
  {
   "cell_type": "code",
   "execution_count": null,
   "metadata": {},
   "outputs": [],
   "source": [
    "wts = number_col[9]\n",
    "wts"
   ]
  },
  {
   "cell_type": "code",
   "execution_count": null,
   "metadata": {},
   "outputs": [],
   "source": [
    "print(wts,\"/\",len(number_col))\n",
    "print(category_num_data.groupby(wts).size().sort_values(ascending=False)[:5])\n",
    "print(\"max : \", raw_data.groupby(wts).size().max())\n",
    "print(\"min : \", raw_data.groupby(wts).size().min())\n",
    "category_num_data.groupby(wts)[\"SalePrice\"].mean().iplot(kind = \"bar\")"
   ]
  },
  {
   "cell_type": "code",
   "execution_count": null,
   "metadata": {},
   "outputs": [],
   "source": [
    "#--------------------------------------------------"
   ]
  },
  {
   "cell_type": "code",
   "execution_count": null,
   "metadata": {},
   "outputs": [],
   "source": [
    "#카테고리 묶음단위 조정\n",
    "temp = dummify_number_cols(raw_data,[wts],[100])\n",
    "print(wts,\"/\",len(number_col))\n",
    "print(temp.groupby(wts).size().sort_values(ascending=False)[:5])\n",
    "print(\"max : \",raw_data.groupby(wts).size().max())\n",
    "print(\"min : \", raw_data.groupby(wts).size().min())\n",
    "temp.groupby(wts)[\"SalePrice\"].mean().iplot(kind = \"bar\")"
   ]
  },
  {
   "cell_type": "code",
   "execution_count": null,
   "metadata": {},
   "outputs": [],
   "source": []
  },
  {
   "cell_type": "code",
   "execution_count": null,
   "metadata": {},
   "outputs": [],
   "source": []
  },
  {
   "cell_type": "code",
   "execution_count": null,
   "metadata": {},
   "outputs": [],
   "source": []
  }
 ],
 "metadata": {
  "kernelspec": {
   "display_name": "Python 3",
   "language": "python",
   "name": "python3"
  },
  "language_info": {
   "codemirror_mode": {
    "name": "ipython",
    "version": 3
   },
   "file_extension": ".py",
   "mimetype": "text/x-python",
   "name": "python",
   "nbconvert_exporter": "python",
   "pygments_lexer": "ipython3",
   "version": "3.7.1"
  }
 },
 "nbformat": 4,
 "nbformat_minor": 2
}
