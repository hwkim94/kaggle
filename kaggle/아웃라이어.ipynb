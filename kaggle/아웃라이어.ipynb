{
 "cells": [
  {
   "cell_type": "code",
   "execution_count": null,
   "metadata": {
    "collapsed": true
   },
   "outputs": [],
   "source": [
    "lotarea(100k 이상 4개), masvnrarea(1600이상 1개), bsmtarea(5644이상 1개, 2260에 1개), totalbsmtarea(6110 1개, 3000이상 4개), 1stSF(4692이상 1개, 2898이상 3개)\n",
    "grlivarea(5643이상 1개, 46761개), garagearea(1200이상 5개)"
   ]
  },
  {
   "cell_type": "code",
   "execution_count": null,
   "metadata": {
    "collapsed": true
   },
   "outputs": [],
   "source": [
    "mssubclass(60에 700k이상 두개, 75에 450k이상), mszoning(rl에 700k이상, rm에 400k이상), overallqual(4에 200k이상 1개, 8에 500k이상 1개, 10에 200k미만 2개)\n",
    "fullbath(0에 300k이상), totrmsabvgr( 14에 1개), garagecars(4에 있는 것들)"
   ]
  },
  {
   "cell_type": "code",
   "execution_count": null,
   "metadata": {
    "collapsed": true
   },
   "outputs": [],
   "source": [
    "우선 숫자형에 대한 보정 먼저하고 그다음에 해결 안된 명목형 변수 조절"
   ]
  },
  {
   "cell_type": "code",
   "execution_count": null,
   "metadata": {
    "collapsed": true
   },
   "outputs": [],
   "source": [
    "500k넘는 것들 한번 데이터 보기"
   ]
  }
 ],
 "metadata": {
  "kernelspec": {
   "display_name": "Python 3",
   "language": "python",
   "name": "python3"
  },
  "language_info": {
   "codemirror_mode": {
    "name": "ipython",
    "version": 3
   },
   "file_extension": ".py",
   "mimetype": "text/x-python",
   "name": "python",
   "nbconvert_exporter": "python",
   "pygments_lexer": "ipython3",
   "version": "3.6.1"
  }
 },
 "nbformat": 4,
 "nbformat_minor": 2
}
